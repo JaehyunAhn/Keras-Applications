{
 "cells": [
  {
   "cell_type": "markdown",
   "metadata": {},
   "source": [
    "# 사전 훈련된 VGG16을 이용한 특성추출"
   ]
  },
  {
   "cell_type": "markdown",
   "metadata": {},
   "source": [
    "![swapping FC classifiers](https://s3.amazonaws.com/book.keras.io/img/ch5/swapping_fc_classifier.png)"
   ]
  },
  {
   "cell_type": "code",
   "execution_count": 1,
   "metadata": {},
   "outputs": [
    {
     "name": "stdout",
     "output_type": "stream",
     "text": [
      "1.9.0\n"
     ]
    }
   ],
   "source": [
    "import tensorflow as tf; print(tf.__version__)"
   ]
  },
  {
   "cell_type": "code",
   "execution_count": 2,
   "metadata": {},
   "outputs": [
    {
     "name": "stderr",
     "output_type": "stream",
     "text": [
      "Using TensorFlow backend.\n"
     ]
    },
    {
     "data": {
      "text/plain": [
       "'2.2.4'"
      ]
     },
     "execution_count": 2,
     "metadata": {},
     "output_type": "execute_result"
    }
   ],
   "source": [
    "import keras\n",
    "keras.__version__"
   ]
  },
  {
   "cell_type": "code",
   "execution_count": 3,
   "metadata": {},
   "outputs": [],
   "source": [
    "from keras.applications import VGG16\n",
    "\n",
    "conv_base = VGG16(weights='imagenet',\n",
    "                 include_top=False,\n",
    "                 input_shape=(150,150,3))"
   ]
  },
  {
   "cell_type": "code",
   "execution_count": 4,
   "metadata": {},
   "outputs": [
    {
     "name": "stdout",
     "output_type": "stream",
     "text": [
      "_________________________________________________________________\n",
      "Layer (type)                 Output Shape              Param #   \n",
      "=================================================================\n",
      "input_1 (InputLayer)         (None, 150, 150, 3)       0         \n",
      "_________________________________________________________________\n",
      "block1_conv1 (Conv2D)        (None, 150, 150, 64)      1792      \n",
      "_________________________________________________________________\n",
      "block1_conv2 (Conv2D)        (None, 150, 150, 64)      36928     \n",
      "_________________________________________________________________\n",
      "block1_pool (MaxPooling2D)   (None, 75, 75, 64)        0         \n",
      "_________________________________________________________________\n",
      "block2_conv1 (Conv2D)        (None, 75, 75, 128)       73856     \n",
      "_________________________________________________________________\n",
      "block2_conv2 (Conv2D)        (None, 75, 75, 128)       147584    \n",
      "_________________________________________________________________\n",
      "block2_pool (MaxPooling2D)   (None, 37, 37, 128)       0         \n",
      "_________________________________________________________________\n",
      "block3_conv1 (Conv2D)        (None, 37, 37, 256)       295168    \n",
      "_________________________________________________________________\n",
      "block3_conv2 (Conv2D)        (None, 37, 37, 256)       590080    \n",
      "_________________________________________________________________\n",
      "block3_conv3 (Conv2D)        (None, 37, 37, 256)       590080    \n",
      "_________________________________________________________________\n",
      "block3_pool (MaxPooling2D)   (None, 18, 18, 256)       0         \n",
      "_________________________________________________________________\n",
      "block4_conv1 (Conv2D)        (None, 18, 18, 512)       1180160   \n",
      "_________________________________________________________________\n",
      "block4_conv2 (Conv2D)        (None, 18, 18, 512)       2359808   \n",
      "_________________________________________________________________\n",
      "block4_conv3 (Conv2D)        (None, 18, 18, 512)       2359808   \n",
      "_________________________________________________________________\n",
      "block4_pool (MaxPooling2D)   (None, 9, 9, 512)         0         \n",
      "_________________________________________________________________\n",
      "block5_conv1 (Conv2D)        (None, 9, 9, 512)         2359808   \n",
      "_________________________________________________________________\n",
      "block5_conv2 (Conv2D)        (None, 9, 9, 512)         2359808   \n",
      "_________________________________________________________________\n",
      "block5_conv3 (Conv2D)        (None, 9, 9, 512)         2359808   \n",
      "_________________________________________________________________\n",
      "block5_pool (MaxPooling2D)   (None, 4, 4, 512)         0         \n",
      "=================================================================\n",
      "Total params: 14,714,688\n",
      "Trainable params: 14,714,688\n",
      "Non-trainable params: 0\n",
      "_________________________________________________________________\n"
     ]
    }
   ],
   "source": [
    "conv_base.summary()"
   ]
  },
  {
   "cell_type": "markdown",
   "metadata": {},
   "source": [
    "## 데이터 증식을 사용하지 않는 빠른 특성 추출"
   ]
  },
  {
   "cell_type": "code",
   "execution_count": 5,
   "metadata": {},
   "outputs": [],
   "source": [
    "import os\n",
    "import numpy as np\n",
    "from keras.preprocessing.image import ImageDataGenerator"
   ]
  },
  {
   "cell_type": "code",
   "execution_count": 6,
   "metadata": {},
   "outputs": [
    {
     "name": "stdout",
     "output_type": "stream",
     "text": [
      "Found 2000 images belonging to 2 classes.\n",
      "Found 1000 images belonging to 2 classes.\n",
      "Found 1000 images belonging to 2 classes.\n"
     ]
    }
   ],
   "source": [
    "base_dir = \"datasets/cats_and_dogs_small\"\n",
    "train_dir = os.path.join(base_dir, 'train')\n",
    "validation_dir = os.path.join(base_dir, 'validation')\n",
    "test_dir = os.path.join(base_dir, 'test')\n",
    "\n",
    "datagen = ImageDataGenerator(rescale=1./255)\n",
    "batch_size = 20\n",
    "\n",
    "def extract_features(directory, sample_count):\n",
    "    features = np.zeros(shape=(sample_count, 4, 4, 512))\n",
    "    labels = np.zeros(shape=(sample_count))\n",
    "    generator = datagen.flow_from_directory(\n",
    "        directory,\n",
    "        target_size=(150,150),\n",
    "        batch_size=batch_size,\n",
    "        class_mode='binary')\n",
    "    i = 0 \n",
    "    for inputs_batch, labels_batch in generator:\n",
    "        features_batch = conv_base.predict(inputs_batch)\n",
    "        features[i * batch_size : (i + 1)  * batch_size] = features_batch\n",
    "        labels[i * batch_size : (i + 1) * batch_size] = labels_batch\n",
    "        i += 1\n",
    "        if i * batch_size >= sample_count:\n",
    "            break\n",
    "    return features, labels\n",
    "\n",
    "train_features, train_labels = extract_features(train_dir, 2000)\n",
    "validation_features, validation_labels = extract_features(validation_dir, 1000)\n",
    "test_features, test_labels = extract_features(test_dir, 1000)"
   ]
  },
  {
   "cell_type": "code",
   "execution_count": 7,
   "metadata": {},
   "outputs": [],
   "source": [
    "train_features = np.reshape(train_features, (2000, 4 * 4 * 512))\n",
    "validation_features = np.reshape(validation_features, (1000, 4 * 4 * 512))\n",
    "test_features = np.reshape(test_features, (1000, 4 * 4 * 512))"
   ]
  },
  {
   "cell_type": "code",
   "execution_count": 11,
   "metadata": {
    "scrolled": false
   },
   "outputs": [
    {
     "name": "stdout",
     "output_type": "stream",
     "text": [
      "Train on 2000 samples, validate on 1000 samples\n",
      "Epoch 1/30\n",
      "2000/2000 [==============================] - 5s 3ms/step - loss: 0.6221 - acc: 0.6530 - val_loss: 0.4380 - val_acc: 0.8300\n",
      "Epoch 2/30\n",
      "2000/2000 [==============================] - 5s 3ms/step - loss: 0.4324 - acc: 0.7990 - val_loss: 0.3569 - val_acc: 0.8600\n",
      "Epoch 3/30\n",
      "2000/2000 [==============================] - 4s 2ms/step - loss: 0.3662 - acc: 0.8455 - val_loss: 0.3228 - val_acc: 0.8680\n",
      "Epoch 4/30\n",
      "2000/2000 [==============================] - 4s 2ms/step - loss: 0.3195 - acc: 0.8625 - val_loss: 0.3039 - val_acc: 0.8940\n",
      "Epoch 5/30\n",
      "2000/2000 [==============================] - 5s 3ms/step - loss: 0.2994 - acc: 0.8745 - val_loss: 0.2825 - val_acc: 0.8860\n",
      "Epoch 6/30\n",
      "2000/2000 [==============================] - 5s 3ms/step - loss: 0.2673 - acc: 0.8930 - val_loss: 0.2727 - val_acc: 0.8810 lo\n",
      "Epoch 7/30\n",
      "2000/2000 [==============================] - 5s 3ms/step - loss: 0.2537 - acc: 0.8940 - val_loss: 0.2669 - val_acc: 0.8870\n",
      "Epoch 8/30\n",
      "2000/2000 [==============================] - 5s 2ms/step - loss: 0.2441 - acc: 0.9035 - val_loss: 0.2577 - val_acc: 0.8970\n",
      "Epoch 9/30\n",
      "2000/2000 [==============================] - 4s 2ms/step - loss: 0.2236 - acc: 0.9190 - val_loss: 0.2540 - val_acc: 0.8930\n",
      "Epoch 10/30\n",
      "2000/2000 [==============================] - 4s 2ms/step - loss: 0.2017 - acc: 0.9255 - val_loss: 0.2509 - val_acc: 0.8950\n",
      "Epoch 11/30\n",
      "2000/2000 [==============================] - 4s 2ms/step - loss: 0.1923 - acc: 0.9290 - val_loss: 0.2510 - val_acc: 0.8960\n",
      "Epoch 12/30\n",
      "2000/2000 [==============================] - 4s 2ms/step - loss: 0.1917 - acc: 0.9250 - val_loss: 0.2447 - val_acc: 0.8970\n",
      "Epoch 13/30\n",
      "2000/2000 [==============================] - 4s 2ms/step - loss: 0.1804 - acc: 0.9380 - val_loss: 0.2428 - val_acc: 0.9010\n",
      "Epoch 14/30\n",
      "2000/2000 [==============================] - 4s 2ms/step - loss: 0.1691 - acc: 0.9390 - val_loss: 0.2628 - val_acc: 0.8870\n",
      "Epoch 15/30\n",
      "2000/2000 [==============================] - 4s 2ms/step - loss: 0.1682 - acc: 0.9405 - val_loss: 0.2400 - val_acc: 0.8980\n",
      "Epoch 16/30\n",
      "2000/2000 [==============================] - 4s 2ms/step - loss: 0.1611 - acc: 0.9455 - val_loss: 0.2409 - val_acc: 0.9010\n",
      "Epoch 17/30\n",
      "2000/2000 [==============================] - 4s 2ms/step - loss: 0.1492 - acc: 0.9500 - val_loss: 0.2381 - val_acc: 0.8990\n",
      "Epoch 18/30\n",
      "2000/2000 [==============================] - 4s 2ms/step - loss: 0.1393 - acc: 0.9505 - val_loss: 0.2408 - val_acc: 0.9010\n",
      "Epoch 19/30\n",
      "2000/2000 [==============================] - 4s 2ms/step - loss: 0.1377 - acc: 0.9520 - val_loss: 0.2500 - val_acc: 0.8980\n",
      "Epoch 20/30\n",
      "2000/2000 [==============================] - 4s 2ms/step - loss: 0.1241 - acc: 0.9575 - val_loss: 0.2393 - val_acc: 0.9010\n",
      "Epoch 21/30\n",
      "2000/2000 [==============================] - 5s 2ms/step - loss: 0.1255 - acc: 0.9560 - val_loss: 0.2375 - val_acc: 0.9010\n",
      "Epoch 22/30\n",
      "2000/2000 [==============================] - 4s 2ms/step - loss: 0.1153 - acc: 0.9675 - val_loss: 0.2372 - val_acc: 0.9010\n",
      "Epoch 23/30\n",
      "2000/2000 [==============================] - 4s 2ms/step - loss: 0.1153 - acc: 0.9625 - val_loss: 0.2370 - val_acc: 0.9010\n",
      "Epoch 24/30\n",
      "2000/2000 [==============================] - 4s 2ms/step - loss: 0.1074 - acc: 0.9665 - val_loss: 0.2435 - val_acc: 0.9010\n",
      "Epoch 25/30\n",
      "2000/2000 [==============================] - 4s 2ms/step - loss: 0.1076 - acc: 0.9630 - val_loss: 0.2371 - val_acc: 0.9010\n",
      "Epoch 26/30\n",
      "2000/2000 [==============================] - 4s 2ms/step - loss: 0.0997 - acc: 0.9670 - val_loss: 0.2401 - val_acc: 0.9010\n",
      "Epoch 27/30\n",
      "2000/2000 [==============================] - 4s 2ms/step - loss: 0.0968 - acc: 0.9695 - val_loss: 0.2484 - val_acc: 0.8980\n",
      "Epoch 28/30\n",
      "2000/2000 [==============================] - 5s 2ms/step - loss: 0.0933 - acc: 0.9705 - val_loss: 0.2385 - val_acc: 0.9030\n",
      "Epoch 29/30\n",
      "2000/2000 [==============================] - 5s 2ms/step - loss: 0.0886 - acc: 0.9755 - val_loss: 0.2524 - val_acc: 0.8980\n",
      "Epoch 30/30\n",
      "2000/2000 [==============================] - 5s 3ms/step - loss: 0.0893 - acc: 0.9695 - val_loss: 0.2399 - val_acc: 0.9040\n"
     ]
    }
   ],
   "source": [
    "from keras import models\n",
    "from keras import layers\n",
    "from keras import optimizers\n",
    "\n",
    "model = models.Sequential()\n",
    "model.add(layers.Dense(256, activation='relu', input_dim = 4 * 4 * 512))\n",
    "model.add(layers.Dropout(0.5))\n",
    "model.add(layers.Dense(1, activation='sigmoid'))\n",
    "\n",
    "model.compile(optimizer=optimizers.RMSprop(lr=2e-5),\n",
    "             loss='binary_crossentropy',\n",
    "             metrics=['acc'])\n",
    "\n",
    "history = model.fit(train_features, train_labels,\n",
    "                    epochs=30,\n",
    "                    batch_size=20,\n",
    "                    validation_data=(validation_features, validation_labels))"
   ]
  },
  {
   "cell_type": "code",
   "execution_count": 17,
   "metadata": {},
   "outputs": [
    {
     "data": {
      "text/plain": [
       "<function matplotlib.pyplot.show(*args, **kw)>"
      ]
     },
     "execution_count": 17,
     "metadata": {},
     "output_type": "execute_result"
    },
    {
     "data": {
      "image/png": "[encoded data removed]",
      "text/plain": [
       "<Figure size 432x288 with 1 Axes>"
      ]
     },
     "metadata": {},
     "output_type": "display_data"
    },
    {
     "data": {
      "image/png": "[encoded data removed]",
      "text/plain": [
       "<Figure size 432x288 with 1 Axes>"
      ]
     },
     "metadata": {},
     "output_type": "display_data"
    }
   ],
   "source": [
    "import matplotlib.pyplot as plt\n",
    "\n",
    "acc = history.history['acc']\n",
    "val_acc = history.history['val_acc']\n",
    "loss = history.history['loss']\n",
    "val_loss = history.history['val_loss']\n",
    "\n",
    "epochs = range(1, len(acc) + 1)\n",
    "\n",
    "plt.plot(epochs, acc, 'bo', label = 'Training acc')\n",
    "plt.plot(epochs, val_acc, 'b', label = 'Validation acc')\n",
    "plt.title('Training and validation accuracy')\n",
    "plt.legend()\n",
    "\n",
    "plt.figure()\n",
    "\n",
    "plt.plot(epochs, loss, 'bo', label = 'Training loss')\n",
    "plt.plot(epochs, val_loss,'b', label='Validation loss')\n",
    "plt.title('Training and validation loss')\n",
    "plt.legend()\n",
    "\n",
    "plt.show"
   ]
  },
  {
   "cell_type": "markdown",
   "metadata": {},
   "source": [
    "## 데이터 증식을 사용한 특성 추출"
   ]
  },
  {
   "cell_type": "code",
   "execution_count": 8,
   "metadata": {},
   "outputs": [],
   "source": [
    "from keras import models\n",
    "from keras import layers\n",
    "\n",
    "model = models.Sequential()\n",
    "model.add(conv_base)\n",
    "model.add(layers.Flatten())\n",
    "model.add(layers.Dense(256, activation='relu'))\n",
    "model.add(layers.Dense(1, activation='sigmoid'))"
   ]
  },
  {
   "cell_type": "code",
   "execution_count": 9,
   "metadata": {},
   "outputs": [
    {
     "name": "stdout",
     "output_type": "stream",
     "text": [
      "_________________________________________________________________\n",
      "Layer (type)                 Output Shape              Param #   \n",
      "=================================================================\n",
      "vgg16 (Model)                (None, 4, 4, 512)         14714688  \n",
      "_________________________________________________________________\n",
      "flatten_1 (Flatten)          (None, 8192)              0         \n",
      "_________________________________________________________________\n",
      "dense_1 (Dense)              (None, 256)               2097408   \n",
      "_________________________________________________________________\n",
      "dense_2 (Dense)              (None, 1)                 257       \n",
      "=================================================================\n",
      "Total params: 16,812,353\n",
      "Trainable params: 16,812,353\n",
      "Non-trainable params: 0\n",
      "_________________________________________________________________\n"
     ]
    }
   ],
   "source": [
    "model.summary()"
   ]
  },
  {
   "cell_type": "code",
   "execution_count": 10,
   "metadata": {},
   "outputs": [
    {
     "name": "stdout",
     "output_type": "stream",
     "text": [
      "no freezing num :  30\n",
      "yes freezing num :  4\n"
     ]
    }
   ],
   "source": [
    "print(\"no freezing num : \",len(model.trainable_weights))\n",
    "\n",
    "conv_base.trainable = False\n",
    "\n",
    "print(\"yes freezing num : \", len(model.trainable_weights))"
   ]
  },
  {
   "cell_type": "code",
   "execution_count": 16,
   "metadata": {},
   "outputs": [
    {
     "name": "stdout",
     "output_type": "stream",
     "text": [
      "Found 2000 images belonging to 2 classes.\n",
      "Found 1000 images belonging to 2 classes.\n"
     ]
    }
   ],
   "source": [
    "from keras.preprocessing.image import ImageDataGenerator\n",
    "from keras import optimizers\n",
    "\n",
    "train_datagen = ImageDataGenerator(\n",
    "    rescale=1./255,\n",
    "    rotation_range=40,\n",
    "    width_shift_range=0.2,\n",
    "    height_shift_range=0.2,\n",
    "    shear_range=0.2,\n",
    "    zoom_range=0.2,\n",
    "    horizontal_flip=True,\n",
    "    fill_mode='nearest')\n",
    "\n",
    "test_datagen = ImageDataGenerator(rescale=1./255)\n",
    "\n",
    "train_generator = train_datagen.flow_from_directory(\n",
    "    train_dir,\n",
    "    target_size=(150,150),\n",
    "    batch_size=20,\n",
    "    class_mode='binary')\n",
    "\n",
    "validation_generator = test_datagen.flow_from_directory(\n",
    "        validation_dir,\n",
    "        target_size=(150, 150),\n",
    "        batch_size=20,\n",
    "        class_mode='binary')"
   ]
  },
  {
   "cell_type": "code",
   "execution_count": 26,
   "metadata": {
    "scrolled": false
   },
   "outputs": [
    {
     "name": "stdout",
     "output_type": "stream",
     "text": [
      "Found 2000 images belonging to 2 classes.\n",
      "Found 1000 images belonging to 2 classes.\n",
      "Epoch 1/30\n",
      " - 451s - loss: 0.6083 - acc: 0.6775 - val_loss: 0.4532 - val_acc: 0.8200\n",
      "Epoch 2/30\n",
      " - 451s - loss: 0.4839 - acc: 0.7775 - val_loss: 0.3793 - val_acc: 0.8560\n",
      "Epoch 3/30\n",
      " - 472s - loss: 0.4365 - acc: 0.8035 - val_loss: 0.3397 - val_acc: 0.8590\n",
      "Epoch 4/30\n",
      " - 426s - loss: 0.4002 - acc: 0.8260 - val_loss: 0.3142 - val_acc: 0.8830\n",
      "Epoch 5/30\n",
      " - 421s - loss: 0.3829 - acc: 0.8300 - val_loss: 0.3066 - val_acc: 0.8710\n",
      "Epoch 6/30\n",
      " - 422s - loss: 0.3707 - acc: 0.8290 - val_loss: 0.2866 - val_acc: 0.8850\n",
      "Epoch 7/30\n",
      " - 419s - loss: 0.3578 - acc: 0.8500 - val_loss: 0.2826 - val_acc: 0.8930\n",
      "Epoch 8/30\n",
      " - 30349s - loss: 0.3529 - acc: 0.8410 - val_loss: 0.2727 - val_acc: 0.8950\n",
      "Epoch 9/30\n",
      " - 437s - loss: 0.3412 - acc: 0.8500 - val_loss: 0.2702 - val_acc: 0.8950\n",
      "Epoch 10/30\n",
      " - 434s - loss: 0.3418 - acc: 0.8480 - val_loss: 0.2642 - val_acc: 0.8950\n",
      "Epoch 11/30\n",
      " - 428s - loss: 0.3426 - acc: 0.8345 - val_loss: 0.2642 - val_acc: 0.9060\n",
      "Epoch 12/30\n",
      " - 427s - loss: 0.3324 - acc: 0.8550 - val_loss: 0.2589 - val_acc: 0.9020\n",
      "Epoch 13/30\n",
      " - 489s - loss: 0.3248 - acc: 0.8610 - val_loss: 0.2570 - val_acc: 0.8990\n",
      "Epoch 14/30\n",
      " - 285s - loss: 0.3231 - acc: 0.8495 - val_loss: 0.2528 - val_acc: 0.9000\n",
      "Epoch 15/30\n",
      " - 278s - loss: 0.3087 - acc: 0.8560 - val_loss: 0.2525 - val_acc: 0.8980\n",
      "Epoch 16/30\n",
      " - 283s - loss: 0.3108 - acc: 0.8570 - val_loss: 0.2624 - val_acc: 0.8930\n",
      "Epoch 17/30\n",
      " - 273s - loss: 0.3218 - acc: 0.8660 - val_loss: 0.2488 - val_acc: 0.9010\n",
      "Epoch 18/30\n",
      " - 281s - loss: 0.3098 - acc: 0.8610 - val_loss: 0.2495 - val_acc: 0.9060\n",
      "Epoch 19/30\n",
      " - 276s - loss: 0.2953 - acc: 0.8750 - val_loss: 0.2666 - val_acc: 0.8910\n",
      "Epoch 20/30\n",
      " - 258s - loss: 0.3103 - acc: 0.8640 - val_loss: 0.2616 - val_acc: 0.8940\n",
      "Epoch 21/30\n",
      " - 257s - loss: 0.2929 - acc: 0.8745 - val_loss: 0.2467 - val_acc: 0.9030\n",
      "Epoch 22/30\n",
      " - 260s - loss: 0.2892 - acc: 0.8830 - val_loss: 0.2441 - val_acc: 0.9060\n",
      "Epoch 23/30\n",
      " - 257s - loss: 0.2783 - acc: 0.8795 - val_loss: 0.2455 - val_acc: 0.9060\n",
      "Epoch 24/30\n",
      " - 256s - loss: 0.3058 - acc: 0.8680 - val_loss: 0.2444 - val_acc: 0.9050\n",
      "Epoch 25/30\n",
      " - 255s - loss: 0.2930 - acc: 0.8730 - val_loss: 0.2423 - val_acc: 0.9030\n",
      "Epoch 26/30\n",
      " - 254s - loss: 0.2732 - acc: 0.8875 - val_loss: 0.2449 - val_acc: 0.9050\n",
      "Epoch 27/30\n",
      " - 254s - loss: 0.2866 - acc: 0.8825 - val_loss: 0.2429 - val_acc: 0.9050\n",
      "Epoch 28/30\n",
      " - 253s - loss: 0.2856 - acc: 0.8795 - val_loss: 0.2443 - val_acc: 0.9050\n",
      "Epoch 29/30\n",
      " - 266s - loss: 0.2852 - acc: 0.8740 - val_loss: 0.2555 - val_acc: 0.8930\n",
      "Epoch 30/30\n",
      " - 256s - loss: 0.2906 - acc: 0.8765 - val_loss: 0.2443 - val_acc: 0.9070\n"
     ]
    }
   ],
   "source": [
    "\n",
    "\n",
    "model.compile(loss=\"binary_crossentropy\",\n",
    "             optimizer=optimizers.RMSprop(lr=2e-5),\n",
    "             metrics=['acc'])\n",
    "\n",
    "history = model.fit_generator(\n",
    "    train_generator,\n",
    "    steps_per_epoch=100,\n",
    "    epochs=30,\n",
    "    validation_data=validation_generator,\n",
    "    validation_steps=50,\n",
    "    verbose=2)\n"
   ]
  },
  {
   "cell_type": "code",
   "execution_count": 27,
   "metadata": {},
   "outputs": [
    {
     "data": {
      "text/plain": [
       "<function matplotlib.pyplot.show(*args, **kw)>"
      ]
     },
     "execution_count": 27,
     "metadata": {},
     "output_type": "execute_result"
    },
    {
     "data": {
      "image/png": "[encoded data removed]",
      "text/plain": [
       "<Figure size 432x288 with 1 Axes>"
      ]
     },
     "metadata": {},
     "output_type": "display_data"
    },
    {
     "data": {
      "image/png": "[encoded data removed]",
      "text/plain": [
       "<Figure size 432x288 with 1 Axes>"
      ]
     },
     "metadata": {},
     "output_type": "display_data"
    }
   ],
   "source": [
    "acc = history.history['acc']\n",
    "val_acc = history.history['val_acc']\n",
    "loss = history.history['loss']\n",
    "val_loss = history.history['val_loss']\n",
    "\n",
    "epochs = range(1, len(acc) + 1)\n",
    "plt.plot(epochs, acc, 'bo', label = 'Training acc')\n",
    "plt.plot(epochs, val_acc, 'b', label = 'Validation acc')\n",
    "plt.title('Training and validation accuracy')\n",
    "plt.legend()\n",
    "\n",
    "plt.figure()\n",
    "\n",
    "plt.plot(epochs, loss, 'bo', label = 'Training loss')\n",
    "plt.plot(epochs, val_loss,'b', label='Validation loss')\n",
    "plt.title('Training and validation loss')\n",
    "plt.legend()\n",
    "\n",
    "plt.show"
   ]
  },
  {
   "cell_type": "markdown",
   "metadata": {},
   "source": [
    "## 미세조정"
   ]
  },
  {
   "cell_type": "markdown",
   "metadata": {},
   "source": [
    "1. 사전에 훈련된 네트워크 위에 새 네트워크 추가\n",
    "2. 기반 네트워크 동결\n",
    "3. 추가 네트워크 훈련\n",
    "4. 기반 네트워크에서 일부 층 동경 해제\n",
    "5. 동경 해제 층과 새로 추가한 층을 훈련"
   ]
  },
  {
   "cell_type": "markdown",
   "metadata": {},
   "source": [
    "![fine-tuning VGG16](https://s3.amazonaws.com/book.keras.io/img/ch5/vgg16_fine_tuning.png)"
   ]
  },
  {
   "cell_type": "code",
   "execution_count": 11,
   "metadata": {},
   "outputs": [
    {
     "name": "stdout",
     "output_type": "stream",
     "text": [
      "_________________________________________________________________\n",
      "Layer (type)                 Output Shape              Param #   \n",
      "=================================================================\n",
      "input_1 (InputLayer)         (None, 150, 150, 3)       0         \n",
      "_________________________________________________________________\n",
      "block1_conv1 (Conv2D)        (None, 150, 150, 64)      1792      \n",
      "_________________________________________________________________\n",
      "block1_conv2 (Conv2D)        (None, 150, 150, 64)      36928     \n",
      "_________________________________________________________________\n",
      "block1_pool (MaxPooling2D)   (None, 75, 75, 64)        0         \n",
      "_________________________________________________________________\n",
      "block2_conv1 (Conv2D)        (None, 75, 75, 128)       73856     \n",
      "_________________________________________________________________\n",
      "block2_conv2 (Conv2D)        (None, 75, 75, 128)       147584    \n",
      "_________________________________________________________________\n",
      "block2_pool (MaxPooling2D)   (None, 37, 37, 128)       0         \n",
      "_________________________________________________________________\n",
      "block3_conv1 (Conv2D)        (None, 37, 37, 256)       295168    \n",
      "_________________________________________________________________\n",
      "block3_conv2 (Conv2D)        (None, 37, 37, 256)       590080    \n",
      "_________________________________________________________________\n",
      "block3_conv3 (Conv2D)        (None, 37, 37, 256)       590080    \n",
      "_________________________________________________________________\n",
      "block3_pool (MaxPooling2D)   (None, 18, 18, 256)       0         \n",
      "_________________________________________________________________\n",
      "block4_conv1 (Conv2D)        (None, 18, 18, 512)       1180160   \n",
      "_________________________________________________________________\n",
      "block4_conv2 (Conv2D)        (None, 18, 18, 512)       2359808   \n",
      "_________________________________________________________________\n",
      "block4_conv3 (Conv2D)        (None, 18, 18, 512)       2359808   \n",
      "_________________________________________________________________\n",
      "block4_pool (MaxPooling2D)   (None, 9, 9, 512)         0         \n",
      "_________________________________________________________________\n",
      "block5_conv1 (Conv2D)        (None, 9, 9, 512)         2359808   \n",
      "_________________________________________________________________\n",
      "block5_conv2 (Conv2D)        (None, 9, 9, 512)         2359808   \n",
      "_________________________________________________________________\n",
      "block5_conv3 (Conv2D)        (None, 9, 9, 512)         2359808   \n",
      "_________________________________________________________________\n",
      "block5_pool (MaxPooling2D)   (None, 4, 4, 512)         0         \n",
      "=================================================================\n",
      "Total params: 14,714,688\n",
      "Trainable params: 0\n",
      "Non-trainable params: 14,714,688\n",
      "_________________________________________________________________\n"
     ]
    }
   ],
   "source": [
    "conv_base.summary()"
   ]
  },
  {
   "cell_type": "markdown",
   "metadata": {},
   "source": [
    "#### 하위층은 일반적이고 재사용 가능한 특성들을 인코딩하는 반면 상위층은 좀 더 특화된 특성을 인코딩한다.\n",
    "#### 즉 새로운 문제에 재활용하도록 수정이 필요한 것은 상위층이다.\n",
    "\n",
    "#### 위와 더불어 과적합 문제로 인해 최상위 2~3층만 미세 조정하는 것이 좋다."
   ]
  },
  {
   "cell_type": "code",
   "execution_count": 12,
   "metadata": {},
   "outputs": [],
   "source": [
    "conv_base.trainable = True\n",
    "\n",
    "set_trainable = False\n",
    "for layer in conv_base.layers:\n",
    "    if layer.name == 'block5_conv1':\n",
    "        set_trainable = True\n",
    "    if set_trainable:\n",
    "        layer.trainable = True\n",
    "    else:\n",
    "        layer.trainable = False"
   ]
  },
  {
   "cell_type": "code",
   "execution_count": 17,
   "metadata": {
    "scrolled": false
   },
   "outputs": [
    {
     "name": "stdout",
     "output_type": "stream",
     "text": [
      "Epoch 1/100\n",
      "100/100 [==============================] - 98s 980ms/step - loss: 0.5383 - acc: 0.7315 - val_loss: 0.3361 - val_acc: 0.8580\n",
      "Epoch 2/100\n",
      "100/100 [==============================] - 92s 917ms/step - loss: 0.3725 - acc: 0.8340 - val_loss: 0.2658 - val_acc: 0.8900\n",
      "Epoch 3/100\n",
      "100/100 [==============================] - 95s 948ms/step - loss: 0.3070 - acc: 0.8685 - val_loss: 0.2357 - val_acc: 0.8980\n",
      "Epoch 4/100\n",
      "100/100 [==============================] - 101s 1s/step - loss: 0.2845 - acc: 0.8810 - val_loss: 0.2012 - val_acc: 0.9110\n",
      "Epoch 5/100\n",
      "100/100 [==============================] - 106s 1s/step - loss: 0.2653 - acc: 0.8860 - val_loss: 0.1997 - val_acc: 0.9150\n",
      "Epoch 6/100\n",
      "100/100 [==============================] - 102s 1s/step - loss: 0.2408 - acc: 0.9045 - val_loss: 0.1894 - val_acc: 0.9240\n",
      "Epoch 7/100\n",
      "100/100 [==============================] - 17s 172ms/step - loss: 0.2393 - acc: 0.8985 - val_loss: 0.2118 - val_acc: 0.9130\n",
      "Epoch 8/100\n",
      "100/100 [==============================] - 17s 174ms/step - loss: 0.2234 - acc: 0.9025 - val_loss: 0.2115 - val_acc: 0.9160\n",
      "Epoch 9/100\n",
      "100/100 [==============================] - 17s 173ms/step - loss: 0.2121 - acc: 0.9115 - val_loss: 0.2210 - val_acc: 0.9050\n",
      "Epoch 10/100\n",
      "100/100 [==============================] - 17s 173ms/step - loss: 0.2152 - acc: 0.9185 - val_loss: 0.1702 - val_acc: 0.9290\n",
      "Epoch 11/100\n",
      "100/100 [==============================] - 17s 173ms/step - loss: 0.2213 - acc: 0.9090 - val_loss: 0.1671 - val_acc: 0.9290\n",
      "Epoch 12/100\n",
      "100/100 [==============================] - 17s 174ms/step - loss: 0.1788 - acc: 0.9290 - val_loss: 0.1811 - val_acc: 0.9270\n",
      "Epoch 13/100\n",
      "100/100 [==============================] - 17s 173ms/step - loss: 0.1701 - acc: 0.9330 - val_loss: 0.1862 - val_acc: 0.9220\n",
      "Epoch 14/100\n",
      "100/100 [==============================] - 18s 179ms/step - loss: 0.1706 - acc: 0.9335 - val_loss: 0.1610 - val_acc: 0.9260\n",
      "Epoch 15/100\n",
      "100/100 [==============================] - 17s 173ms/step - loss: 0.1660 - acc: 0.9285 - val_loss: 0.1779 - val_acc: 0.9310\n",
      "Epoch 16/100\n",
      "100/100 [==============================] - 17s 173ms/step - loss: 0.1726 - acc: 0.9315 - val_loss: 0.1680 - val_acc: 0.9300\n",
      "Epoch 17/100\n",
      "100/100 [==============================] - 18s 175ms/step - loss: 0.1494 - acc: 0.9440 - val_loss: 0.1524 - val_acc: 0.9330\n",
      "Epoch 18/100\n",
      "100/100 [==============================] - 17s 173ms/step - loss: 0.1434 - acc: 0.9465 - val_loss: 0.1589 - val_acc: 0.9340\n",
      "Epoch 19/100\n",
      "100/100 [==============================] - 19s 186ms/step - loss: 0.1349 - acc: 0.9500 - val_loss: 0.2091 - val_acc: 0.9190\n",
      "Epoch 20/100\n",
      "100/100 [==============================] - 22s 223ms/step - loss: 0.1284 - acc: 0.9530 - val_loss: 0.1546 - val_acc: 0.9330\n",
      "Epoch 21/100\n",
      "100/100 [==============================] - 21s 214ms/step - loss: 0.1382 - acc: 0.9515 - val_loss: 0.1582 - val_acc: 0.9270\n",
      "Epoch 22/100\n",
      "100/100 [==============================] - 17s 173ms/step - loss: 0.1274 - acc: 0.9535 - val_loss: 0.1513 - val_acc: 0.9340\n",
      "Epoch 23/100\n",
      "100/100 [==============================] - 17s 174ms/step - loss: 0.1152 - acc: 0.9570 - val_loss: 0.1585 - val_acc: 0.9360\n",
      "Epoch 24/100\n",
      "100/100 [==============================] - 21s 212ms/step - loss: 0.1114 - acc: 0.9555 - val_loss: 0.1544 - val_acc: 0.9410\n",
      "Epoch 25/100\n",
      "100/100 [==============================] - 22s 223ms/step - loss: 0.1210 - acc: 0.9510 - val_loss: 0.2459 - val_acc: 0.9090\n",
      "Epoch 26/100\n",
      "100/100 [==============================] - 21s 213ms/step - loss: 0.1100 - acc: 0.9590 - val_loss: 0.1511 - val_acc: 0.9400\n",
      "Epoch 27/100\n",
      "100/100 [==============================] - 23s 228ms/step - loss: 0.1053 - acc: 0.9605 - val_loss: 0.2398 - val_acc: 0.9160\n",
      "Epoch 28/100\n",
      "100/100 [==============================] - 22s 223ms/step - loss: 0.0960 - acc: 0.9605 - val_loss: 0.1668 - val_acc: 0.9350\n",
      "Epoch 29/100\n",
      "100/100 [==============================] - 19s 189ms/step - loss: 0.0907 - acc: 0.9615 - val_loss: 0.1561 - val_acc: 0.9370\n",
      "Epoch 30/100\n",
      "100/100 [==============================] - 18s 180ms/step - loss: 0.1002 - acc: 0.9580 - val_loss: 0.1738 - val_acc: 0.9320\n",
      "Epoch 31/100\n",
      "100/100 [==============================] - 17s 175ms/step - loss: 0.0989 - acc: 0.9605 - val_loss: 0.2272 - val_acc: 0.9210\n",
      "Epoch 32/100\n",
      "100/100 [==============================] - 17s 174ms/step - loss: 0.0894 - acc: 0.9670 - val_loss: 0.1813 - val_acc: 0.9310\n",
      "Epoch 33/100\n",
      "100/100 [==============================] - 18s 178ms/step - loss: 0.0892 - acc: 0.9600 - val_loss: 0.1862 - val_acc: 0.9320\n",
      "Epoch 34/100\n",
      "100/100 [==============================] - 23s 226ms/step - loss: 0.0748 - acc: 0.9740 - val_loss: 0.2062 - val_acc: 0.9300\n",
      "Epoch 35/100\n",
      "100/100 [==============================] - 22s 223ms/step - loss: 0.0725 - acc: 0.9735 - val_loss: 0.1819 - val_acc: 0.9370\n",
      "Epoch 36/100\n",
      "100/100 [==============================] - 17s 173ms/step - loss: 0.0828 - acc: 0.9685 - val_loss: 0.1884 - val_acc: 0.9300\n",
      "Epoch 37/100\n",
      "100/100 [==============================] - 21s 215ms/step - loss: 0.0691 - acc: 0.9720 - val_loss: 0.1701 - val_acc: 0.9350\n",
      "Epoch 38/100\n",
      "100/100 [==============================] - 22s 224ms/step - loss: 0.0776 - acc: 0.9705 - val_loss: 0.1657 - val_acc: 0.9360\n",
      "Epoch 39/100\n",
      "100/100 [==============================] - 19s 186ms/step - loss: 0.0809 - acc: 0.9705 - val_loss: 0.1635 - val_acc: 0.9380\n",
      "Epoch 40/100\n",
      "100/100 [==============================] - 18s 177ms/step - loss: 0.0683 - acc: 0.9755 - val_loss: 0.1702 - val_acc: 0.9350\n",
      "Epoch 41/100\n",
      "100/100 [==============================] - 18s 181ms/step - loss: 0.0868 - acc: 0.9640 - val_loss: 0.1710 - val_acc: 0.9370\n",
      "Epoch 42/100\n",
      "100/100 [==============================] - 23s 226ms/step - loss: 0.0734 - acc: 0.9735 - val_loss: 0.1884 - val_acc: 0.9340\n",
      "Epoch 43/100\n",
      "100/100 [==============================] - 22s 221ms/step - loss: 0.0747 - acc: 0.9750 - val_loss: 0.1650 - val_acc: 0.9410\n",
      "Epoch 44/100\n",
      "100/100 [==============================] - 17s 174ms/step - loss: 0.0642 - acc: 0.9755 - val_loss: 0.1912 - val_acc: 0.9340\n",
      "Epoch 45/100\n",
      "100/100 [==============================] - 17s 174ms/step - loss: 0.0482 - acc: 0.9835 - val_loss: 0.1896 - val_acc: 0.9370\n",
      "Epoch 46/100\n",
      "100/100 [==============================] - 18s 175ms/step - loss: 0.0735 - acc: 0.9705 - val_loss: 0.1638 - val_acc: 0.9410\n",
      "Epoch 47/100\n",
      "100/100 [==============================] - 17s 175ms/step - loss: 0.0586 - acc: 0.9765 - val_loss: 0.2661 - val_acc: 0.9230\n",
      "Epoch 48/100\n",
      "100/100 [==============================] - 20s 202ms/step - loss: 0.0567 - acc: 0.9760 - val_loss: 0.1934 - val_acc: 0.9390\n",
      "Epoch 49/100\n",
      "100/100 [==============================] - 23s 226ms/step - loss: 0.0609 - acc: 0.9765 - val_loss: 0.1815 - val_acc: 0.9340\n",
      "Epoch 50/100\n",
      "100/100 [==============================] - 20s 201ms/step - loss: 0.0601 - acc: 0.9780 - val_loss: 0.2744 - val_acc: 0.9230\n",
      "Epoch 51/100\n",
      "100/100 [==============================] - 17s 175ms/step - loss: 0.0550 - acc: 0.9770 - val_loss: 0.1976 - val_acc: 0.9380\n",
      "Epoch 52/100\n",
      "100/100 [==============================] - 17s 175ms/step - loss: 0.0519 - acc: 0.9795 - val_loss: 0.1789 - val_acc: 0.9380\n",
      "Epoch 53/100\n",
      "100/100 [==============================] - 21s 208ms/step - loss: 0.0401 - acc: 0.9850 - val_loss: 0.2542 - val_acc: 0.9310\n",
      "Epoch 54/100\n",
      "100/100 [==============================] - 23s 226ms/step - loss: 0.0474 - acc: 0.9835 - val_loss: 0.2075 - val_acc: 0.9350\n",
      "Epoch 55/100\n",
      "100/100 [==============================] - 20s 196ms/step - loss: 0.0526 - acc: 0.9780 - val_loss: 0.2334 - val_acc: 0.9320\n",
      "Epoch 56/100\n",
      "100/100 [==============================] - 18s 184ms/step - loss: 0.0481 - acc: 0.9850 - val_loss: 0.2124 - val_acc: 0.9400\n",
      "Epoch 57/100\n",
      "100/100 [==============================] - 23s 227ms/step - loss: 0.0491 - acc: 0.9830 - val_loss: 0.2573 - val_acc: 0.9310\n",
      "Epoch 58/100\n",
      "100/100 [==============================] - 22s 223ms/step - loss: 0.0517 - acc: 0.9815 - val_loss: 0.2267 - val_acc: 0.9300\n",
      "Epoch 59/100\n",
      "100/100 [==============================] - 17s 174ms/step - loss: 0.0558 - acc: 0.9825 - val_loss: 0.4742 - val_acc: 0.9050\n",
      "Epoch 60/100\n",
      "100/100 [==============================] - 18s 175ms/step - loss: 0.0409 - acc: 0.9820 - val_loss: 0.2103 - val_acc: 0.9330\n"
     ]
    },
    {
     "name": "stdout",
     "output_type": "stream",
     "text": [
      "Epoch 61/100\n",
      "100/100 [==============================] - 20s 197ms/step - loss: 0.0417 - acc: 0.9855 - val_loss: 0.2075 - val_acc: 0.9320\n",
      "Epoch 62/100\n",
      "100/100 [==============================] - 23s 226ms/step - loss: 0.0451 - acc: 0.9855 - val_loss: 0.2206 - val_acc: 0.9340\n",
      "Epoch 63/100\n",
      "100/100 [==============================] - 21s 205ms/step - loss: 0.0415 - acc: 0.9830 - val_loss: 0.3302 - val_acc: 0.9250\n",
      "Epoch 64/100\n",
      "100/100 [==============================] - 17s 174ms/step - loss: 0.0394 - acc: 0.9865 - val_loss: 0.2204 - val_acc: 0.9380\n",
      "Epoch 65/100\n",
      "100/100 [==============================] - 17s 174ms/step - loss: 0.0289 - acc: 0.9895 - val_loss: 0.3501 - val_acc: 0.9230\n",
      "Epoch 66/100\n",
      "100/100 [==============================] - 18s 175ms/step - loss: 0.0387 - acc: 0.9835 - val_loss: 0.1942 - val_acc: 0.9410\n",
      "Epoch 67/100\n",
      "100/100 [==============================] - 17s 174ms/step - loss: 0.0423 - acc: 0.9840 - val_loss: 0.1999 - val_acc: 0.9470\n",
      "Epoch 68/100\n",
      "100/100 [==============================] - 17s 175ms/step - loss: 0.0393 - acc: 0.9845 - val_loss: 0.2447 - val_acc: 0.9340\n",
      "Epoch 69/100\n",
      "100/100 [==============================] - 18s 175ms/step - loss: 0.0369 - acc: 0.9860 - val_loss: 0.3050 - val_acc: 0.9260\n",
      "Epoch 70/100\n",
      "100/100 [==============================] - 17s 174ms/step - loss: 0.0371 - acc: 0.9840 - val_loss: 0.2220 - val_acc: 0.9400\n",
      "Epoch 71/100\n",
      "100/100 [==============================] - 19s 188ms/step - loss: 0.0313 - acc: 0.9860 - val_loss: 0.2135 - val_acc: 0.9410\n",
      "Epoch 72/100\n",
      "100/100 [==============================] - 23s 229ms/step - loss: 0.0387 - acc: 0.9845 - val_loss: 0.2304 - val_acc: 0.9380\n",
      "Epoch 73/100\n",
      "100/100 [==============================] - 22s 216ms/step - loss: 0.0271 - acc: 0.9895 - val_loss: 0.2510 - val_acc: 0.9380\n",
      "Epoch 74/100\n",
      "100/100 [==============================] - 17s 175ms/step - loss: 0.0332 - acc: 0.9860 - val_loss: 0.4889 - val_acc: 0.9090\n",
      "Epoch 75/100\n",
      "100/100 [==============================] - 17s 174ms/step - loss: 0.0273 - acc: 0.9905 - val_loss: 0.2569 - val_acc: 0.9370\n",
      "Epoch 76/100\n",
      "100/100 [==============================] - 17s 175ms/step - loss: 0.0303 - acc: 0.9910 - val_loss: 0.2285 - val_acc: 0.9330\n",
      "Epoch 77/100\n",
      "100/100 [==============================] - 18s 175ms/step - loss: 0.0435 - acc: 0.9845 - val_loss: 0.3874 - val_acc: 0.9110\n",
      "Epoch 78/100\n",
      "100/100 [==============================] - 17s 175ms/step - loss: 0.0363 - acc: 0.9855 - val_loss: 0.2205 - val_acc: 0.9330\n",
      "Epoch 79/100\n",
      "100/100 [==============================] - 21s 214ms/step - loss: 0.0277 - acc: 0.9900 - val_loss: 0.2823 - val_acc: 0.9270\n",
      "Epoch 80/100\n",
      "100/100 [==============================] - 23s 230ms/step - loss: 0.0328 - acc: 0.9890 - val_loss: 0.4510 - val_acc: 0.9120\n",
      "Epoch 81/100\n",
      "100/100 [==============================] - 19s 190ms/step - loss: 0.0356 - acc: 0.9860 - val_loss: 0.3352 - val_acc: 0.9270\n",
      "Epoch 82/100\n",
      "100/100 [==============================] - 17s 174ms/step - loss: 0.0333 - acc: 0.9895 - val_loss: 0.3439 - val_acc: 0.9220\n",
      "Epoch 83/100\n",
      "100/100 [==============================] - 18s 175ms/step - loss: 0.0457 - acc: 0.9865 - val_loss: 0.2884 - val_acc: 0.9290\n",
      "Epoch 84/100\n",
      "100/100 [==============================] - 17s 175ms/step - loss: 0.0260 - acc: 0.9910 - val_loss: 0.2198 - val_acc: 0.9430\n",
      "Epoch 85/100\n",
      "100/100 [==============================] - 17s 175ms/step - loss: 0.0340 - acc: 0.9885 - val_loss: 0.2427 - val_acc: 0.9380\n",
      "Epoch 86/100\n",
      "100/100 [==============================] - 17s 175ms/step - loss: 0.0287 - acc: 0.9905 - val_loss: 0.4385 - val_acc: 0.9110\n",
      "Epoch 87/100\n",
      "100/100 [==============================] - 18s 175ms/step - loss: 0.0292 - acc: 0.9880 - val_loss: 0.2975 - val_acc: 0.9320\n",
      "Epoch 88/100\n",
      "100/100 [==============================] - 22s 220ms/step - loss: 0.0267 - acc: 0.9905 - val_loss: 0.2707 - val_acc: 0.9320\n",
      "Epoch 89/100\n",
      "100/100 [==============================] - 23s 229ms/step - loss: 0.0277 - acc: 0.9915 - val_loss: 0.2361 - val_acc: 0.9410\n",
      "Epoch 90/100\n",
      "100/100 [==============================] - 19s 186ms/step - loss: 0.0244 - acc: 0.9915 - val_loss: 0.3125 - val_acc: 0.9360\n",
      "Epoch 91/100\n",
      "100/100 [==============================] - 17s 175ms/step - loss: 0.0376 - acc: 0.9880 - val_loss: 0.3075 - val_acc: 0.9280\n",
      "Epoch 92/100\n",
      "100/100 [==============================] - 18s 175ms/step - loss: 0.0256 - acc: 0.9900 - val_loss: 0.2759 - val_acc: 0.9320\n",
      "Epoch 93/100\n",
      "100/100 [==============================] - 18s 175ms/step - loss: 0.0301 - acc: 0.9895 - val_loss: 0.2814 - val_acc: 0.9330\n",
      "Epoch 94/100\n",
      "100/100 [==============================] - 18s 175ms/step - loss: 0.0281 - acc: 0.9870 - val_loss: 0.2439 - val_acc: 0.9400\n",
      "Epoch 95/100\n",
      "100/100 [==============================] - 18s 175ms/step - loss: 0.0280 - acc: 0.9905 - val_loss: 0.2742 - val_acc: 0.9390\n",
      "Epoch 96/100\n",
      "100/100 [==============================] - 18s 175ms/step - loss: 0.0396 - acc: 0.9860 - val_loss: 0.2532 - val_acc: 0.9350\n",
      "Epoch 97/100\n",
      "100/100 [==============================] - 17s 175ms/step - loss: 0.0267 - acc: 0.9900 - val_loss: 0.2474 - val_acc: 0.9370\n",
      "Epoch 98/100\n",
      "100/100 [==============================] - 18s 175ms/step - loss: 0.0245 - acc: 0.9910 - val_loss: 0.3716 - val_acc: 0.9290\n",
      "Epoch 99/100\n",
      "100/100 [==============================] - 18s 175ms/step - loss: 0.0262 - acc: 0.9905 - val_loss: 0.2347 - val_acc: 0.9420\n",
      "Epoch 100/100\n",
      "100/100 [==============================] - 18s 176ms/step - loss: 0.0234 - acc: 0.9920 - val_loss: 0.4633 - val_acc: 0.9150\n"
     ]
    }
   ],
   "source": [
    "model.compile(loss='binary_crossentropy',\n",
    "              optimizer=optimizers.RMSprop(lr=1e-5),\n",
    "              metrics=['acc'])\n",
    "\n",
    "history = model.fit_generator(\n",
    "    train_generator,\n",
    "    steps_per_epoch=100,\n",
    "    epochs=100,\n",
    "    validation_data=validation_generator,\n",
    "    validation_steps=50)"
   ]
  },
  {
   "cell_type": "code",
   "execution_count": 20,
   "metadata": {},
   "outputs": [
    {
     "data": {
      "text/plain": [
       "<function matplotlib.pyplot.show(*args, **kw)>"
      ]
     },
     "execution_count": 20,
     "metadata": {},
     "output_type": "execute_result"
    },
    {
     "data": {
      "image/png": "[encoded data removed]",
      "text/plain": [
       "<Figure size 432x288 with 1 Axes>"
      ]
     },
     "metadata": {},
     "output_type": "display_data"
    },
    {
     "data": {
      "image/png": "[encoded data removed]",
      "text/plain": [
       "<Figure size 432x288 with 1 Axes>"
      ]
     },
     "metadata": {},
     "output_type": "display_data"
    }
   ],
   "source": [
    "import matplotlib.pyplot as plt\n",
    "acc = history.history['acc']\n",
    "val_acc = history.history['val_acc']\n",
    "loss = history.history['loss']\n",
    "val_loss = history.history['val_loss']\n",
    "\n",
    "epochs = range(1, len(acc) + 1)\n",
    "\n",
    "plt.plot(epochs, acc, 'bo', label = 'Training acc')\n",
    "plt.plot(epochs, val_acc, 'b', label = 'Validation acc')\n",
    "plt.title('Training and validation accuracy')\n",
    "plt.legend()\n",
    "\n",
    "plt.figure()\n",
    "\n",
    "plt.plot(epochs, loss, 'bo', label = 'Training loss')\n",
    "plt.plot(epochs, val_loss,'b', label='Validation loss')\n",
    "plt.title('Training and validation loss')\n",
    "plt.legend()\n",
    "\n",
    "plt.show"
   ]
  },
  {
   "cell_type": "code",
   "execution_count": 27,
   "metadata": {},
   "outputs": [],
   "source": [
    "def smooth_curve(points, factor=0.8):\n",
    "    smoothed_points = []\n",
    "    for point in points:\n",
    "        if smoothed_points:\n",
    "            previous = smoothed_points[-1]\n",
    "            smoothed_points.append(previous * factor + point * (1 - factor))\n",
    "        else:\n",
    "            smoothed_points.append(point)\n",
    "    return smoothed_points"
   ]
  },
  {
   "cell_type": "code",
   "execution_count": 28,
   "metadata": {},
   "outputs": [
    {
     "data": {
      "image/png": "[encoded data removed]",
      "text/plain": [
       "<Figure size 432x288 with 1 Axes>"
      ]
     },
     "metadata": {},
     "output_type": "display_data"
    },
    {
     "data": {
      "image/png": "[encoded data removed]",
      "text/plain": [
       "<Figure size 432x288 with 1 Axes>"
      ]
     },
     "metadata": {},
     "output_type": "display_data"
    }
   ],
   "source": [
    "plt.plot(epochs,\n",
    "        smooth_curve(acc), 'bo', label=\"smoothed training acc\")\n",
    "plt.plot(epochs,\n",
    "        smooth_curve(val_acc), 'b', label='Smoothed validation acc')\n",
    "plt.title('Training and validation accuracy')\n",
    "plt.legend()\n",
    "\n",
    "plt.figure()\n",
    "\n",
    "plt.plot(epochs,\n",
    "        smooth_curve(loss), 'bo', label='Smoothed training loss')\n",
    "\n",
    "plt.plot(epochs,\n",
    "        smooth_curve(val_loss), 'b', label='Smoothed validation loss')\n",
    "plt.title('Training and validation loss')\n",
    "plt.legend()\n",
    "\n",
    "plt.show()"
   ]
  },
  {
   "cell_type": "code",
   "execution_count": 32,
   "metadata": {},
   "outputs": [
    {
     "name": "stdout",
     "output_type": "stream",
     "text": [
      "Found 1000 images belonging to 2 classes.\n",
      "test acc :  0.9069999957084656\n"
     ]
    }
   ],
   "source": [
    "test_generator = test_datagen.flow_from_directory(\n",
    "    test_dir,\n",
    "    target_size = (150,150),\n",
    "    batch_size=20,\n",
    "    class_mode='binary')\n",
    "\n",
    "test_loss, test_acc = model.evaluate_generator(test_generator, steps=50)\n",
    "print('test acc : ', test_acc)"
   ]
  },
  {
   "cell_type": "code",
   "execution_count": null,
   "metadata": {},
   "outputs": [],
   "source": []
  },
  {
   "cell_type": "code",
   "execution_count": null,
   "metadata": {},
   "outputs": [],
   "source": []
  }
 ],
 "metadata": {
  "kernelspec": {
   "display_name": "tensorflowGPU",
   "language": "python",
   "name": "tensorflow"
  },
  "language_info": {
   "codemirror_mode": {
    "name": "ipython",
    "version": 3
   },
   "file_extension": ".py",
   "mimetype": "text/x-python",
   "name": "python",
   "nbconvert_exporter": "python",
   "pygments_lexer": "ipython3",
   "version": "3.5.5"
  }
 },
 "nbformat": 4,
 "nbformat_minor": 2
}
