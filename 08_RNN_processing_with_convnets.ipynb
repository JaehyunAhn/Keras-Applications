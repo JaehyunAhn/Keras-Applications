{
 "cells": [
  {
   "cell_type": "code",
   "execution_count": 1,
   "metadata": {},
   "outputs": [
    {
     "name": "stderr",
     "output_type": "stream",
     "text": [
      "Using TensorFlow backend.\n"
     ]
    }
   ],
   "source": [
    "from keras.datasets import imdb\n",
    "from keras.preprocessing import sequence"
   ]
  },
  {
   "cell_type": "markdown",
   "metadata": {},
   "source": [
    "# IMDB 감정분석"
   ]
  },
  {
   "cell_type": "code",
   "execution_count": 2,
   "metadata": {},
   "outputs": [
    {
     "name": "stdout",
     "output_type": "stream",
     "text": [
      "data load...\n",
      "25000 train sequence\n",
      "25000 test sequence\n",
      "sequence padding (samples x tiem)\n",
      "size of x_train :  (25000, 500)\n",
      "size of x_test  :  (25000, 500)\n"
     ]
    }
   ],
   "source": [
    "max_features = 10000\n",
    "max_len = 500\n",
    "\n",
    "print(\"data load...\")\n",
    "(x_train, y_train), (x_test, y_test) = imdb.load_data(num_words=max_features)\n",
    "print(len(x_train), \"train sequence\")\n",
    "print(len(x_test), \"test sequence\")\n",
    "\n",
    "print(\"sequence padding (samples x tiem)\")\n",
    "x_train = sequence.pad_sequences(x_train, maxlen=max_len)\n",
    "x_test = sequence.pad_sequences(x_test, maxlen=max_len)\n",
    "print(\"size of x_train : \", x_train.shape)\n",
    "print(\"size of x_test  : \", x_test.shape)"
   ]
  },
  {
   "cell_type": "code",
   "execution_count": 3,
   "metadata": {
    "collapsed": true
   },
   "outputs": [],
   "source": [
    "from keras.models import Sequential\n",
    "from keras import layers\n",
    "from keras.optimizers import RMSprop"
   ]
  },
  {
   "cell_type": "code",
   "execution_count": 4,
   "metadata": {},
   "outputs": [
    {
     "name": "stdout",
     "output_type": "stream",
     "text": [
      "_________________________________________________________________\n",
      "Layer (type)                 Output Shape              Param #   \n",
      "=================================================================\n",
      "embedding_1 (Embedding)      (None, 500, 128)          1280000   \n",
      "_________________________________________________________________\n",
      "conv1d_1 (Conv1D)            (None, 494, 32)           28704     \n",
      "_________________________________________________________________\n",
      "max_pooling1d_1 (MaxPooling1 (None, 98, 32)            0         \n",
      "_________________________________________________________________\n",
      "conv1d_2 (Conv1D)            (None, 92, 32)            7200      \n",
      "_________________________________________________________________\n",
      "global_max_pooling1d_1 (Glob (None, 32)                0         \n",
      "_________________________________________________________________\n",
      "dense_1 (Dense)              (None, 1)                 33        \n",
      "=================================================================\n",
      "Total params: 1,315,937\n",
      "Trainable params: 1,315,937\n",
      "Non-trainable params: 0\n",
      "_________________________________________________________________\n"
     ]
    }
   ],
   "source": [
    "model = Sequential()\n",
    "model.add(layers.Embedding(max_features, 128, input_length=max_len))\n",
    "model.add(layers.Conv1D(32, 7, activation='relu'))\n",
    "model.add(layers.MaxPool1D(5))\n",
    "model.add(layers.Conv1D(32, 7, activation='relu'))\n",
    "model.add(layers.GlobalMaxPool1D())\n",
    "model.add(layers.Dense(1))\n",
    "\n",
    "model.summary()"
   ]
  },
  {
   "cell_type": "code",
   "execution_count": 5,
   "metadata": {},
   "outputs": [
    {
     "name": "stdout",
     "output_type": "stream",
     "text": [
      "Train on 20000 samples, validate on 5000 samples\n",
      "Epoch 1/10\n",
      "20000/20000 [==============================] - 147s - loss: 0.7699 - acc: 0.5305 - val_loss: 0.6820 - val_acc: 0.5996\n",
      "Epoch 2/10\n",
      "20000/20000 [==============================] - 142s - loss: 0.6629 - acc: 0.6775 - val_loss: 0.6571 - val_acc: 0.6662\n",
      "Epoch 3/10\n",
      "20000/20000 [==============================] - 142s - loss: 0.6119 - acc: 0.7609 - val_loss: 0.5939 - val_acc: 0.7192\n",
      "Epoch 4/10\n",
      "20000/20000 [==============================] - 142s - loss: 0.5125 - acc: 0.8138 - val_loss: 0.4899 - val_acc: 0.7834\n",
      "Epoch 5/10\n",
      "20000/20000 [==============================] - 146s - loss: 0.4073 - acc: 0.8478 - val_loss: 0.4102 - val_acc: 0.8318\n",
      "Epoch 6/10\n",
      "20000/20000 [==============================] - 142s - loss: 0.3441 - acc: 0.8651 - val_loss: 0.3892 - val_acc: 0.8462\n",
      "Epoch 7/10\n",
      "20000/20000 [==============================] - 142s - loss: 0.3060 - acc: 0.8696 - val_loss: 0.3924 - val_acc: 0.8298\n",
      "Epoch 8/10\n",
      "20000/20000 [==============================] - 142s - loss: 0.2808 - acc: 0.8542 - val_loss: 0.4130 - val_acc: 0.8134\n",
      "Epoch 9/10\n",
      "20000/20000 [==============================] - 142s - loss: 0.2531 - acc: 0.8374 - val_loss: 0.4285 - val_acc: 0.7912\n",
      "Epoch 10/10\n",
      "20000/20000 [==============================] - 142s - loss: 0.2341 - acc: 0.8135 - val_loss: 0.4459 - val_acc: 0.7634\n"
     ]
    }
   ],
   "source": [
    "model.compile(optimizer=RMSprop(lr=1e-4),\n",
    "              loss='binary_crossentropy',\n",
    "              metrics=['acc'])\n",
    "history = model.fit(x_train, y_train,\n",
    "                    epochs=10,\n",
    "                    batch_size=128,\n",
    "                    validation_split=0.2)"
   ]
  },
  {
   "cell_type": "code",
   "execution_count": 6,
   "metadata": {
    "collapsed": true
   },
   "outputs": [],
   "source": [
    "import matplotlib.pyplot as plt"
   ]
  },
  {
   "cell_type": "code",
   "execution_count": 7,
   "metadata": {},
   "outputs": [
    {
     "data": {
      "image/png": "[encoded data removed]",
      "text/plain": [
       "<matplotlib.figure.Figure at 0x7fae43974390>"
      ]
     },
     "metadata": {},
     "output_type": "display_data"
    },
    {
     "data": {
      "image/png": "[encoded data removed]",
      "text/plain": [
       "<matplotlib.figure.Figure at 0x7fae43898828>"
      ]
     },
     "metadata": {},
     "output_type": "display_data"
    }
   ],
   "source": [
    "acc = history.history['acc']\n",
    "val_acc = history.history['val_acc']\n",
    "loss = history.history['loss']\n",
    "val_loss = history.history['val_loss']\n",
    "\n",
    "epochs = range(1, len(acc) + 1)\n",
    "\n",
    "plt.plot(epochs, acc, 'bo', label='Training acc')\n",
    "plt.plot(epochs, val_acc, 'b', label='Validation acc')\n",
    "plt.title('Training and validation accuracy')\n",
    "plt.legend()\n",
    "\n",
    "plt.figure()\n",
    "\n",
    "plt.plot(epochs, loss, 'bo', label='Training loss')\n",
    "plt.plot(epochs, val_loss, 'b', label='Validation loss')\n",
    "plt.title('Training and validation loss')\n",
    "plt.legend()\n",
    "\n",
    "plt.show()"
   ]
  },
  {
   "cell_type": "markdown",
   "metadata": {},
   "source": [
    "# 온도분석"
   ]
  },
  {
   "cell_type": "code",
   "execution_count": 8,
   "metadata": {
    "collapsed": true
   },
   "outputs": [],
   "source": [
    "import os\n",
    "import numpy as np\n",
    "\n",
    "data_dir = './datasets/jena_climate/'\n",
    "fname = os.path.join(data_dir, 'jena_climate_2009_2016.csv')\n",
    "\n",
    "f = open(fname)\n",
    "data = f.read()\n",
    "f.close()\n",
    "\n",
    "lines = data.split('\\n')\n",
    "header = lines[0].split(',')\n",
    "lines = lines[1:]\n",
    "\n",
    "float_data = np.zeros((len(lines), len(header) - 1))\n",
    "for i, line in enumerate(lines):\n",
    "    values = [float(x) for x in line.split(',')[1:]]\n",
    "    float_data[i, :] = values\n",
    "    \n",
    "mean = float_data[:200000].mean(axis=0)\n",
    "float_data -= mean\n",
    "std = float_data[:200000].std(axis=0)\n",
    "float_data /= std\n",
    "\n",
    "def generator(data, lookback, delay, min_index, max_index,\n",
    "              shuffle=False, batch_size=128, step=6):\n",
    "    if max_index is None:\n",
    "        max_index = len(data) - delay - 1\n",
    "    i = min_index + lookback\n",
    "    while 1:\n",
    "        if shuffle:\n",
    "            rows = np.random.randint(\n",
    "                min_index + lookback, max_index, size=batch_size)\n",
    "        else:\n",
    "            if i + batch_size >= max_index:\n",
    "                i = min_index + lookback\n",
    "            rows = np.arange(i, min(i + batch_size, max_index))\n",
    "            i += len(rows)\n",
    "\n",
    "        samples = np.zeros((len(rows),\n",
    "                           lookback // step,\n",
    "                           data.shape[-1]))\n",
    "        targets = np.zeros((len(rows),))\n",
    "        for j, row in enumerate(rows):\n",
    "            indices = range(rows[j] - lookback, rows[j], step)\n",
    "            samples[j] = data[indices]\n",
    "            targets[j] = data[rows[j] + delay][1]\n",
    "        yield samples, targets\n",
    "        \n",
    "lookback = 1440\n",
    "step = 6\n",
    "delay = 144\n",
    "batch_size = 128\n",
    "\n",
    "train_gen = generator(float_data,\n",
    "                      lookback=lookback,\n",
    "                      delay=delay,\n",
    "                      min_index=0,\n",
    "                      max_index=200000,\n",
    "                      shuffle=True,\n",
    "                      step=step, \n",
    "                      batch_size=batch_size)\n",
    "val_gen = generator(float_data,\n",
    "                    lookback=lookback,\n",
    "                    delay=delay,\n",
    "                    min_index=200001,\n",
    "                    max_index=300000,\n",
    "                    step=step,\n",
    "                    batch_size=batch_size)\n",
    "test_gen = generator(float_data,\n",
    "                     lookback=lookback,\n",
    "                     delay=delay,\n",
    "                     min_index=300001,\n",
    "                     max_index=None,\n",
    "                     step=step,\n",
    "                     batch_size=batch_size)\n",
    "\n",
    "val_steps = (300000 - 200001 - lookback) // batch_size\n",
    "test_steps = (len(float_data) - 300001 - lookback) // batch_size"
   ]
  },
  {
   "cell_type": "code",
   "execution_count": 9,
   "metadata": {},
   "outputs": [
    {
     "name": "stdout",
     "output_type": "stream",
     "text": [
      "_________________________________________________________________\n",
      "Layer (type)                 Output Shape              Param #   \n",
      "=================================================================\n",
      "conv1d_3 (Conv1D)            (None, None, 32)          2272      \n",
      "_________________________________________________________________\n",
      "max_pooling1d_2 (MaxPooling1 (None, None, 32)          0         \n",
      "_________________________________________________________________\n",
      "conv1d_4 (Conv1D)            (None, None, 32)          5152      \n",
      "_________________________________________________________________\n",
      "max_pooling1d_3 (MaxPooling1 (None, None, 32)          0         \n",
      "_________________________________________________________________\n",
      "conv1d_5 (Conv1D)            (None, None, 32)          5152      \n",
      "_________________________________________________________________\n",
      "global_max_pooling1d_2 (Glob (None, 32)                0         \n",
      "_________________________________________________________________\n",
      "dense_2 (Dense)              (None, 1)                 33        \n",
      "=================================================================\n",
      "Total params: 12,609\n",
      "Trainable params: 12,609\n",
      "Non-trainable params: 0\n",
      "_________________________________________________________________\n"
     ]
    }
   ],
   "source": [
    "model = Sequential()\n",
    "model.add(layers.Conv1D(32, 5, activation='relu',\n",
    "                        input_shape=(None, float_data.shape[-1])))\n",
    "model.add(layers.MaxPool1D(3))\n",
    "model.add(layers.Conv1D(32, 5, activation='relu'))\n",
    "model.add(layers.MaxPool1D(3))\n",
    "model.add(layers.Conv1D(32, 5, activation='relu'))\n",
    "model.add(layers.GlobalMaxPool1D())\n",
    "model.add(layers.Dense(1))\n",
    "\n",
    "model.summary()"
   ]
  },
  {
   "cell_type": "code",
   "execution_count": 10,
   "metadata": {},
   "outputs": [
    {
     "name": "stdout",
     "output_type": "stream",
     "text": [
      "Epoch 1/20\n",
      "500/500 [==============================] - 75s - loss: 0.4113 - val_loss: 0.4330s: 0.411\n",
      "Epoch 2/20\n",
      "500/500 [==============================] - 75s - loss: 0.3590 - val_loss: 0.4410\n",
      "Epoch 3/20\n",
      "500/500 [==============================] - 75s - loss: 0.3358 - val_loss: 0.4497\n",
      "Epoch 4/20\n",
      "500/500 [==============================] - 75s - loss: 0.3219 - val_loss: 0.4553 ETA: 0s - loss: 0.\n",
      "Epoch 5/20\n",
      "500/500 [==============================] - 75s - loss: 0.3110 - val_loss: 0.4694\n",
      "Epoch 6/20\n",
      "500/500 [==============================] - 75s - loss: 0.3037 - val_loss: 0.4971\n",
      "Epoch 7/20\n",
      "500/500 [==============================] - 75s - loss: 0.2955 - val_loss: 0.4727\n",
      "Epoch 8/20\n",
      "500/500 [==============================] - 75s - loss: 0.2902 - val_loss: 0.4672\n",
      "Epoch 9/20\n",
      "500/500 [==============================] - 75s - loss: 0.2836 - val_loss: 0.5020 0s - loss\n",
      "Epoch 10/20\n",
      "500/500 [==============================] - 75s - loss: 0.2766 - val_loss: 0.4890\n",
      "Epoch 11/20\n",
      "500/500 [==============================] - 75s - loss: 0.2767 - val_loss: 0.4708\n",
      "Epoch 12/20\n",
      "500/500 [==============================] - 75s - loss: 0.2712 - val_loss: 0.4682s\n",
      "Epoch 13/20\n",
      "500/500 [==============================] - 75s - loss: 0.2674 - val_loss: 0.4814:\n",
      "Epoch 14/20\n",
      "500/500 [==============================] - 76s - loss: 0.2643 - val_loss: 0.4971ETA: 0s - loss: 0\n",
      "Epoch 15/20\n",
      "500/500 [==============================] - 75s - loss: 0.2612 - val_loss: 0.4847\n",
      "Epoch 16/20\n",
      "500/500 [==============================] - 75s - loss: 0.2602 - val_loss: 0.4837\n",
      "Epoch 17/20\n",
      "500/500 [==============================] - 75s - loss: 0.2578 - val_loss: 0.4812\n",
      "Epoch 18/20\n",
      "500/500 [==============================] - 76s - loss: 0.2558 - val_loss: 0.4710\n",
      "Epoch 19/20\n",
      "500/500 [==============================] - 76s - loss: 0.2539 - val_loss: 0.47720s - loss: 0.\n",
      "Epoch 20/20\n",
      "500/500 [==============================] - 75s - loss: 0.2513 - val_loss: 0.4909s: 0. - - ETA: 1s -\n"
     ]
    }
   ],
   "source": [
    "model.compile(optimizer=RMSprop(), loss='mae')\n",
    "history = model.fit_generator(train_gen,\n",
    "                              steps_per_epoch=500,\n",
    "                              epochs=20,\n",
    "                              validation_data=val_gen,\n",
    "                              validation_steps=val_steps)"
   ]
  },
  {
   "cell_type": "code",
   "execution_count": 11,
   "metadata": {},
   "outputs": [
    {
     "data": {
      "image/png": "[encoded data removed]",
      "text/plain": [
       "<matplotlib.figure.Figure at 0x7fadfe41c518>"
      ]
     },
     "metadata": {},
     "output_type": "display_data"
    }
   ],
   "source": [
    "loss = history.history['loss']\n",
    "val_loss = history.history['val_loss']\n",
    "\n",
    "epochs = range(1, len(loss) + 1)\n",
    "\n",
    "plt.figure()\n",
    "\n",
    "plt.plot(epochs, loss, 'bo', label='Training loss')\n",
    "plt.plot(epochs, val_loss, 'b', label='Validation loss')\n",
    "plt.title('Training and validation loss')\n",
    "plt.legend()\n",
    "\n",
    "plt.show()"
   ]
  },
  {
   "cell_type": "markdown",
   "metadata": {},
   "source": [
    "컨브넷의 속도와 경량함을 RNN의 순서 감지 능력과 결합하는 한가지 전략은 1D 컨브넷을 RNN 이전에 전처리 단계로 사용하는 것입니다. 수천 개의 스텝을 가진 시퀀스 같이 RNN으로 처리하기엔 현실적으로 너무 긴 시퀀스를 다룰 때 특별히 도움이 됩니다. 컨브넷이 긴 입력 시퀀스를 더 짧은 고수준 특성의 (다운 샘플된) 시퀀스로 변환합니다. 추출된 특성의 시퀀스는 RNN 파트의 입력이 됩니다.\n",
    "\n",
    "이 기법이 연구 논문이나 실전 애플리케이션에 자주 등장하지는 않습니다. 아마도 널리 알려지지 않았기 때문일 것입니다. 이 방법은 효과적이므로 많이 사용되기를 바랍니다. 온도 예측 문제에 적용해 보죠. 이 전략은 훨씬 긴 시퀀스를 다룰 수 있으므로 더 오래전 데이터를 바라보거나(데이터 제너레이터의 lookback 매개변수를 증가시킵니다), 시계열 데이터를 더 촘촘히 바라볼 수 있습니다(제너레이터의 step 매개변수를 감소시킵니다). 여기서는 그냥 step을 절반으로 줄여서 사용하겠습니다. 온도 데이터가 30분마다 1 포인트씩 샘플링되기 때문에 결과 시계열 데이터는 두 배로 길어집니다. 앞서 정의한 제너레이터 함수를 다시 사용합니다."
   ]
  },
  {
   "cell_type": "code",
   "execution_count": 12,
   "metadata": {
    "collapsed": true
   },
   "outputs": [],
   "source": [
    "step = 3\n",
    "lookback = 1440\n",
    "delay = 144\n",
    "batch_size = 128\n",
    "\n",
    "train_gen = generator(float_data,\n",
    "                      lookback=lookback,\n",
    "                      delay=delay,\n",
    "                      min_index=0,\n",
    "                      max_index=200000,\n",
    "                      shuffle=True,\n",
    "                      step=step, \n",
    "                      batch_size=batch_size)\n",
    "val_gen = generator(float_data,\n",
    "                    lookback=lookback,\n",
    "                    delay=delay,\n",
    "                    min_index=200001,\n",
    "                    max_index=300000,\n",
    "                    step=step,\n",
    "                    batch_size=batch_size)\n",
    "test_gen = generator(float_data,\n",
    "                     lookback=lookback,\n",
    "                     delay=delay,\n",
    "                     min_index=300001,\n",
    "                     max_index=None,\n",
    "                     step=step,\n",
    "                     batch_size=batch_size)\n",
    "\n",
    "val_steps = (300000 - 200001 - lookback) // batch_size\n",
    "test_steps = (len(float_data) - 300001 - lookback) // batch_size"
   ]
  },
  {
   "cell_type": "code",
   "execution_count": 13,
   "metadata": {},
   "outputs": [
    {
     "name": "stdout",
     "output_type": "stream",
     "text": [
      "_________________________________________________________________\n",
      "Layer (type)                 Output Shape              Param #   \n",
      "=================================================================\n",
      "conv1d_6 (Conv1D)            (None, None, 32)          2272      \n",
      "_________________________________________________________________\n",
      "max_pooling1d_4 (MaxPooling1 (None, None, 32)          0         \n",
      "_________________________________________________________________\n",
      "conv1d_7 (Conv1D)            (None, None, 32)          5152      \n",
      "_________________________________________________________________\n",
      "gru_1 (GRU)                  (None, 32)                6240      \n",
      "_________________________________________________________________\n",
      "dense_3 (Dense)              (None, 1)                 33        \n",
      "=================================================================\n",
      "Total params: 13,697\n",
      "Trainable params: 13,697\n",
      "Non-trainable params: 0\n",
      "_________________________________________________________________\n"
     ]
    }
   ],
   "source": [
    "model = Sequential()\n",
    "model.add(layers.Conv1D(32, 5, activation='relu',\n",
    "                        input_shape=(None, float_data.shape[-1])))\n",
    "model.add(layers.MaxPool1D(3))\n",
    "model.add(layers.Conv1D(32, 5, activation='relu'))\n",
    "model.add(layers.GRU(32, dropout=0.1, recurrent_dropout=0.5))\n",
    "model.add(layers.Dense(1))\n",
    "\n",
    "model.summary()"
   ]
  },
  {
   "cell_type": "code",
   "execution_count": 14,
   "metadata": {},
   "outputs": [
    {
     "name": "stdout",
     "output_type": "stream",
     "text": [
      "Epoch 1/20\n",
      "500/500 [==============================] - 333s - loss: 0.3376 - val_loss: 0.3025\n",
      "Epoch 2/20\n",
      "500/500 [==============================] - 333s - loss: 0.3033 - val_loss: 0.2893\n",
      "Epoch 3/20\n",
      "500/500 [==============================] - 333s - loss: 0.2913 - val_loss: 0.2796\n",
      "Epoch 4/20\n",
      "500/500 [==============================] - 333s - loss: 0.2826 - val_loss: 0.2738\n",
      "Epoch 5/20\n",
      "500/500 [==============================] - 333s - loss: 0.2753 - val_loss: 0.2824\n",
      "Epoch 6/20\n",
      "500/500 [==============================] - 334s - loss: 0.2688 - val_loss: 0.2789\n",
      "Epoch 7/20\n",
      "500/500 [==============================] - 333s - loss: 0.2645 - val_loss: 0.2740\n",
      "Epoch 8/20\n",
      "500/500 [==============================] - 333s - loss: 0.2589 - val_loss: 0.2727\n",
      "Epoch 9/20\n",
      "500/500 [==============================] - 333s - loss: 0.2539 - val_loss: 0.2835\n",
      "Epoch 10/20\n",
      "500/500 [==============================] - 334s - loss: 0.2510 - val_loss: 0.2782\n",
      "Epoch 11/20\n",
      "500/500 [==============================] - 333s - loss: 0.2478 - val_loss: 0.2791\n",
      "Epoch 12/20\n",
      "500/500 [==============================] - 334s - loss: 0.2423 - val_loss: 0.2834\n",
      "Epoch 13/20\n",
      "500/500 [==============================] - 334s - loss: 0.2403 - val_loss: 0.2883\n",
      "Epoch 14/20\n",
      "500/500 [==============================] - 334s - loss: 0.2360 - val_loss: 0.2929\n",
      "Epoch 15/20\n",
      "500/500 [==============================] - 334s - loss: 0.2345 - val_loss: 0.2863\n",
      "Epoch 16/20\n",
      "500/500 [==============================] - 334s - loss: 0.2304 - val_loss: 0.2901\n",
      "Epoch 17/20\n",
      "500/500 [==============================] - 334s - loss: 0.2291 - val_loss: 0.2935\n",
      "Epoch 18/20\n",
      "500/500 [==============================] - 334s - loss: 0.2262 - val_loss: 0.2940\n",
      "Epoch 19/20\n",
      "500/500 [==============================] - 334s - loss: 0.2253 - val_loss: 0.2843\n",
      "Epoch 20/20\n",
      "500/500 [==============================] - 334s - loss: 0.2231 - val_loss: 0.2974\n"
     ]
    }
   ],
   "source": [
    "model.compile(optimizer=RMSprop(), loss='mae')\n",
    "history = model.fit_generator(train_gen,\n",
    "                              steps_per_epoch=500,\n",
    "                              epochs=20,\n",
    "                              validation_data=val_gen,\n",
    "                              validation_steps=val_steps)"
   ]
  },
  {
   "cell_type": "code",
   "execution_count": 15,
   "metadata": {},
   "outputs": [
    {
     "data": {
      "image/png": "[encoded data removed]",
      "text/plain": [
       "<matplotlib.figure.Figure at 0x7fadfc2a8518>"
      ]
     },
     "metadata": {},
     "output_type": "display_data"
    }
   ],
   "source": [
    "loss = history.history['loss']\n",
    "val_loss = history.history['val_loss']\n",
    "\n",
    "epochs = range(1, len(loss) + 1)\n",
    "\n",
    "plt.figure()\n",
    "\n",
    "plt.plot(epochs, loss, 'bo', label='Training loss')\n",
    "plt.plot(epochs, val_loss, 'b', label='Validation loss')\n",
    "plt.title('Training and validation loss')\n",
    "plt.legend()\n",
    "\n",
    "plt.show()"
   ]
  },
  {
   "cell_type": "code",
   "execution_count": null,
   "metadata": {
    "collapsed": true
   },
   "outputs": [],
   "source": []
  }
 ],
 "metadata": {
  "kernelspec": {
   "display_name": "Python 3",
   "language": "python",
   "name": "python3"
  },
  "language_info": {
   "codemirror_mode": {
    "name": "ipython",
    "version": 3
   },
   "file_extension": ".py",
   "mimetype": "text/x-python",
   "name": "python",
   "nbconvert_exporter": "python",
   "pygments_lexer": "ipython3",
   "version": "3.6.0"
  }
 },
 "nbformat": 4,
 "nbformat_minor": 2
}
