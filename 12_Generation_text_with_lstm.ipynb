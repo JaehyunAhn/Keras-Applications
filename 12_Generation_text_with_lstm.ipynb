{
 "cells": [
  {
   "cell_type": "markdown",
   "metadata": {},
   "source": [
    "## 생성 RNN의 간단한 역사"
   ]
  },
  {
   "cell_type": "markdown",
   "metadata": {},
   "source": [
    "여기서는 RNN기법으로 시퀀스 데이터를 생성하는 방법을 보겠다. 텍스트 생성을 예로 들지만 동일한 기법으로 어떤 종류의 시퀀스 데이터도 생성할 수 있다. 음표의 시퀀스에 적용하여 새로운 음악을 만들거나 연속된 붓질 시퀀스에 적용하여 한 획 한 획 그림을 그릴 수 있다.\n",
    "\n",
    "예술 뿐만아니라, 음성 합성과 챗봇의 대화 기능에도 성공적으로 적용되었다. 구글이 2016년에 공개한 스마트 답장도 빕스한 기술을 사용한다. 짧은 문장을 자동으로 생성하여 이메일이나 문자 메시지로 답장을 보낼 수 있다."
   ]
  },
  {
   "cell_type": "markdown",
   "metadata": {},
   "source": [
    "## 시퀀스 데이터를 어떻게 생성할까?"
   ]
  },
  {
   "cell_type": "markdown",
   "metadata": {},
   "source": [
    "딥러닝에서 시퀀스 데이터를 생성하는 일반적인 방법은 이전 토큰을 입력으로 사용하여 시퀀스의 다음 1개 또는 몇 개의 토큰을 예측하는 것이다. 예를 들어 'the cat is on ma'란 입력이 주어지면 다음 글자인 타깃 't'를 예측하도록 네트워크를 훈련한다. 텍스트 데이터를 다룰 때 토큰은 보통 단어 또는 글자이다. 이전 토큰들이 주어졌을 때 다음 토큰의 확률을 모델링할 수 있는 네트워크를 언어 모델이라고 부른다. 언어 모델은 언어의 통계적 구조인 잠재 공간을 탄색한다.\n",
    "\n",
    "초키 텍스트 문자열을 주입하고(conditioning data) 새로운 글자나 단어를 생성한다. 생성된 출력은 다시 입력 데이터로 추가된다. 이 과정을 여러 번 반복한다. 이런 반복을 통해 모델이 훈련의 비슷한 시퀀스를 만든다. 텍스트 말뭉치(corpus)에서 N개의 글자로 이루어진 문자열을 추출하여 주입하고 N + 1번째 글자를 예측하도록 훈련한다. 모델의 출력은 출력 가능한 모든 글자에 해당하는 소프트 맥스 값이다. 즉 다음 글자의 확률 분포이다. 이 LSSTM을 글자 수준의 신경망 언어 모델(character-level neural language model)이라고 부른다."
   ]
  },
  {
   "cell_type": "markdown",
   "metadata": {},
   "source": [
    "## 샘플링 전략의 중요성"
   ]
  },
  {
   "cell_type": "markdown",
   "metadata": {},
   "source": [
    "텍스트를 생성할 때 다음 글자를 선택하는 방법은 매우 중요하다. 가장 높은 확률을 가진 글자를 선택하는 탐욕적 샘플링(greedy sampling)과 다음 글자의 확률 분포에서 샘플링하는 과정에 무작위성을 주입하는 확률적 샘플링(stochastic sampling)이 있다. 확률적 샘플링을 주로 사용하며, 이 방식을 사용할 겨웅 'e'가 다음 글자가 될 확률이 0.3이라면, 모델이 30% 정도로 이 글자를 선택한다.\n",
    "\n",
    "모델의 소프트맥스 출력은 확률적 샘플링에 사용하기 좋다. 훈련 데이터에는 없지만 실제 같은 새로운 단어를 만들어 재미있고 창의적으로 보이는 문장을 생성한다. \n",
    "\n",
    "이때 이 확률 분포의 엔트로피를 조절하는 것이 중요하다. 작은 엔트로피는 예상 가능한 구조를 가진 시퀀스를 생성한다. 즉 더 실제처럼 보인다. 반면 높은 엔트로프는 놀랍고 창의적인 시퀀스를 만든다. 생성 모델에서 샘플링을 할 때 생성 과정에 무작위성의 양을 바꾸어 시도해 보는 것이 좋다. 흥미는 매우 주관적이므로 최적의 엔트로피 값을 미리 알 수 없기 때문이다. 얼마나 흥미로운 데이터를 생성할 것인지는 결국 사람이 판단해야한다.\n",
    "\n",
    "샘플링 과정에서 확률의 양을 조절하기 위해 소프트맥스 온도(softmax temperature)라는 파라미터를 사용한다. 이 파라미터는 샘플링에 사용되는 확률 분포의 엔트로피를 나탙낸다. 얼마나 놀라운 또는 예상되는 글자를 선택할지 결정한다. temperature 값이 주어지면 다음과 같이 가중치를 적용하여 (모델의 소프트맥스 출력인) 원본 확률 본포에서 새로운 확률 분포를 계산한다."
   ]
  },
  {
   "cell_type": "markdown",
   "metadata": {},
   "source": [
    "## 데이터 전처리"
   ]
  },
  {
   "cell_type": "markdown",
   "metadata": {},
   "source": [
    "니체의 글을 다운 받고 소문자로 처리한다."
   ]
  },
  {
   "cell_type": "code",
   "execution_count": 1,
   "metadata": {},
   "outputs": [
    {
     "name": "stderr",
     "output_type": "stream",
     "text": [
      "Using TensorFlow backend.\n"
     ]
    }
   ],
   "source": [
    "import keras\n",
    "import numpy as np"
   ]
  },
  {
   "cell_type": "code",
   "execution_count": 2,
   "metadata": {},
   "outputs": [
    {
     "name": "stdout",
     "output_type": "stream",
     "text": [
      "size of corpus :  600893\n"
     ]
    }
   ],
   "source": [
    "path = keras.utils.get_file(\n",
    "    'nietzsche.txt',\n",
    "    origin='https://s3.amazonaws.com/text-datasets/nietzsche.txt')\n",
    "text = open(path).read().lower()\n",
    "print(\"size of corpus : \", len(text))"
   ]
  },
  {
   "cell_type": "code",
   "execution_count": 3,
   "metadata": {},
   "outputs": [
    {
     "data": {
      "text/plain": [
       "str"
      ]
     },
     "execution_count": 3,
     "metadata": {},
     "output_type": "execute_result"
    }
   ],
   "source": [
    "type(text)"
   ]
  },
  {
   "cell_type": "markdown",
   "metadata": {},
   "source": [
    "maxlen 길이를 가진 시퀀스를 중복하여 추출한다. 추출된 시퀀스를 one-hot 인코들으로 변환하고 크기가 (sequences, maxlen, unique_characteers)인 3D 넘파이 배열 x로 합친다. 동시에 훈련 샘플에 상응하는 타깃을 담은 배열 y를 준비한다. 타깃은 추출된 시퀀스 다음에 오는 one-hat 인코딩된 글자이다."
   ]
  },
  {
   "cell_type": "code",
   "execution_count": 4,
   "metadata": {},
   "outputs": [
    {
     "name": "stdout",
     "output_type": "stream",
     "text": [
      "num of sequence :  200278\n",
      "unique char :  58\n",
      "vectorization...\n"
     ]
    }
   ],
   "source": [
    "maxlen = 60\n",
    "step = 3\n",
    "\n",
    "sentences = []\n",
    "\n",
    "next_chars = []\n",
    "\n",
    "for i in range(0, len(text) - maxlen, step):\n",
    "    sentences.append(text[i: i + maxlen])\n",
    "    next_chars.append(text[i+maxlen])\n",
    "    \n",
    "print ('num of sequence : ', len(sentences))\n",
    "    \n",
    "chars = sorted(list(set(text)))\n",
    "print('unique char : ', len(chars))\n",
    "char_indices = dict((char, chars.index(char)) for char in chars)\n",
    "    \n",
    "print(\"vectorization...\")\n",
    "x = np.zeros((len(sentences), maxlen, len(chars)), dtype=np.bool)\n",
    "y = np.zeros((len(sentences), len(chars)), dtype = np.bool)\n",
    "for i, sentence in enumerate(sentences):\n",
    "    for t, char in enumerate(sentence):\n",
    "        x[i, t, char_indices[char]]=1\n",
    "    y[i, char_indices[next_chars[i]]] = 1"
   ]
  },
  {
   "cell_type": "code",
   "execution_count": 5,
   "metadata": {},
   "outputs": [],
   "source": [
    "from keras import layers"
   ]
  },
  {
   "cell_type": "code",
   "execution_count": 6,
   "metadata": {},
   "outputs": [],
   "source": [
    "model = keras.models.Sequential()\n",
    "model.add(layers.LSTM(128, input_shape = (maxlen, len(chars))))\n",
    "model.add(layers.Dense(len(chars), activation='softmax'))"
   ]
  },
  {
   "cell_type": "markdown",
   "metadata": {},
   "source": [
    "타깃이 ont-hat 인코딩되어 있기 때문에 모델을 훈련하기 위해 categorial_crossentropy를 사용한다"
   ]
  },
  {
   "cell_type": "code",
   "execution_count": 7,
   "metadata": {},
   "outputs": [],
   "source": [
    "optimizer = keras.optimizers.RMSprop(lr=0.01)\n",
    "model.compile(loss='categorical_crossentropy', optimizer=optimizer)"
   ]
  },
  {
   "cell_type": "markdown",
   "metadata": {},
   "source": [
    "## 언어 모델 훈련과 샘플링"
   ]
  },
  {
   "cell_type": "markdown",
   "metadata": {},
   "source": [
    "훈련된 모델과 seed로 쓰일 간단한 텍스트가 주어지면 다음과 같이 반복하여 새로운 텍스트를 생성할 수 있다.\n",
    "\n",
    "1. 지금까지 생성된 텍스트를 주입하여 모델에서 다음 글자에 대한 확률 분포를 뽑기\n",
    "2. 특정 온도로 이 확률 분포의 가중치 조정\n",
    "3. 가중치가 조정된 분포에서 무작위로 새로운 글자 샘플링\n",
    "4. 새로운 글자를 생성된 텍스트의 끝에 추가\n",
    "\n",
    "다음은 모델에서 나온 원본 확률 분포의 가중치를 조정하고 새로운 글자의 인덱스를 추합하는 셈플링 함수이다."
   ]
  },
  {
   "cell_type": "code",
   "execution_count": 8,
   "metadata": {},
   "outputs": [],
   "source": [
    "def sample(preds, temperature=1.0):\n",
    "    preds = np.asarray(preds).astype('float64')\n",
    "    preds = np.log(preds) / temperature\n",
    "    exp_preds = np.exp(preds)\n",
    "    preds = exp_preds / np.sum(exp_preds)\n",
    "    probas = np.random.multinomial(1, preds, 1)\n",
    "    return np.argmax(probas)"
   ]
  },
  {
   "cell_type": "markdown",
   "metadata": {},
   "source": [
    "마지막으로 다음 반복문은 반복적으로 훈련하고 텍스트를 생성한다. 에포크마다 학습이 끝난 후 여러 가지 온도를 사용하여 텍스트를 생성한다. 이렇게 하면 모델이 수렴하면서 생성된 텍스트가 어떻게 진화하는지 볼 수 있다. 온도가 샘플링 전략에 미치는 영향도 보여준다."
   ]
  },
  {
   "cell_type": "code",
   "execution_count": 9,
   "metadata": {},
   "outputs": [],
   "source": [
    "import random\n",
    "import sys"
   ]
  },
  {
   "cell_type": "code",
   "execution_count": 10,
   "metadata": {
    "scrolled": true
   },
   "outputs": [
    {
     "name": "stdout",
     "output_type": "stream",
     "text": [
      "epoch 1\n",
      "Epoch 1/1\n",
      "200278/200278 [==============================] - 158s 790us/step - loss: 1.9562\n",
      "--- seed text : \"the slowly ascending ranks and classes, in which,\n",
      "through fo\"\n",
      "------temperature :  0.2\n",
      "the slowly ascending ranks and classes, in which,\n",
      "through for the conder and and in the command the conderstand and in the some in the conderstand and the command and in all the conderstand in the conderstand of the conders and the consequence of the consequent the conder and the order the conderstand and the whole here an all the consequent the command and the conders and order the conderstand it is also the condersual the command and the condequent the c\n",
      "------temperature :  0.5\n",
      "the slowly ascending ranks and classes, in which,\n",
      "through for which when the caster and therefort the reasted become and the when that it is a full of the here a which when the calse who sufferent be is not of one it wishesy it is extrust fas it with a  nother of has the belies and the like it is in a cause as he despresend the call only and some have the presends and the sensulines from always it is althere and the indess almous and these a knowledges of \n",
      "------temperature :  1.0\n",
      "the slowly ascending ranks and classes, in which,\n",
      "through for crasm ultinglitive \"in the anmatting it nothir obliged, distrocher the become utrifre\n",
      "his old have the winglen hands becueids, and \"that with comman life, the, it is trust origation as imhave shored and but\n",
      "and juspering from wis manherible scound makeng nowg, indesent its, and and merele strangnesin is taking: on old what\n",
      "have---to them\"s--the indignuliders resprebsubely iemhicity as itself, al\n",
      "------temperature :  1.2\n",
      "the slowly ascending ranks and classes, in which,\n",
      "through for scume himsevost exvors of fac, this choce norfitn sibjud ises hund; ihbly outolition ent distoste\" ipojied it. beffuence eltenceingt yme does ether-en\n",
      "floral; that the hatcse namalf lage a sikle; they, promously, acchovorre\" uporignad on\n",
      "their haw moderi oremunces of ghyshard degave thingteres at but wherebet itself,man all\n",
      "as he were of ealdiakly, all simkabitsed, whenhen it all ligtoon him, us\n",
      "epoch 2\n",
      "Epoch 1/1\n",
      "200278/200278 [==============================] - 155s 775us/step - loss: 1.6181\n",
      "--- seed text : \"the slowly ascending ranks and classes, in which,\n",
      "through fo\"\n",
      "------temperature :  0.2\n",
      "the slowly ascending ranks and classes, in which,\n",
      "through for the sumplear superstical the strength and the discivician the same as the case of the success to may can the freed the result of the present the promines of the promines of the same an acceptions and the sumplear and the strength in the case of the contradition and the sumpless of the same distruth which the present that the strength to the sumple and case and all the cause the same and degile t\n",
      "------temperature :  0.5\n",
      "the slowly ascending ranks and classes, in which,\n",
      "through for himself their man art that grount for the rature that the ancient the explucting to its intentionally and matticrated to self an the world stup doffer and everything the deselly the order to have the most without the germany repersation, of his has seem the way in the helectures of all the beganes and to ratical his without a sumsly a special stret in are special called the pressive the astetion\n",
      "------temperature :  1.0\n",
      "the slowly ascending ranks and classes, in which,\n",
      "through for the cause to be at into abwly andiquitious mankind actuoued, which can de regardant without lones what eaver, we norly without to dangestirics our willings. thereceoitued for -dewead for contrme contrating. he is opposiuses of the gemat, to the imwayshent the \"way, conuld and look as\n",
      "ultines of him.. i                           . himself itstest\n",
      "differy to under to i sciring, to\n",
      "the motions mutt\n",
      "------temperature :  1.2\n",
      "the slowly ascending ranks and classes, in which,\n",
      "through for eve, fird spridk\n",
      "ineligiats's, carrusts, are a sograce renaig0us accivively for flied to di lovesombrac desy\n",
      "earsi? may to way\n",
      "i lower bir\n",
      "and rad. and ghyst to to sulcity what has eles inanally sumilian\n",
      "muchoves from \"unjudg fromder is the p towes mangen menyoune of an nim. \"no one\n",
      "reventultaintm many one is decelaiy. viousing if\n",
      "never will for in philosopher\n",
      "bayity in the valued of whollitnewi\n",
      "epoch 3\n",
      "Epoch 1/1\n",
      "200278/200278 [==============================] - 158s 787us/step - loss: 1.5306\n",
      "--- seed text : \"the slowly ascending ranks and classes, in which,\n",
      "through fo\"\n",
      "------temperature :  0.2\n",
      "the slowly ascending ranks and classes, in which,\n",
      "through former the sense the ears of the also the ears our the sense that the our that the and the strong the every strong have strong in the same the sense the our that the sense and self the ears and the same a concerning the sense and every distingtious the states of the ears of the same all the best the ears and soul in the have a morality to the strong and the most be and a self the same the sense of t\n",
      "------temperature :  0.5\n",
      "the slowly ascending ranks and classes, in which,\n",
      "through former and\n",
      "reason of the only nothing and case in the counters of a love and both in stands and former of a most convariatic and have more in the ever has in the emorality to the displact of the every been body and conclusion that hat has the ears and to a man remard of factic and of its our even the conduct and dangerous stepred for in a mind in the sense in the distumption of the precisely in the \n",
      "------temperature :  1.0\n",
      "the slowly ascending ranks and classes, in which,\n",
      "through for wes the old dompounds frith ffertn food, the dart dyst convicus in great.\n",
      "\n",
      "long, from that it seemved colour, privated the still power and unfezlion at and still yet hes most stander and on not long thus\n",
      "in melaten, our else, in a nowad more plesstea\"--in botleywhils regarding maric soul, as power of\n",
      "the old premorality disinclaious perhap alety--the farturity and starting (upjudeted, man, he wi\n",
      "------temperature :  1.2\n",
      "the slowly ascending ranks and classes, in which,\n",
      "through for invelt.\n",
      "\n",
      "de grean oe corm, the our to ecclartcked and as\n",
      "obsiefor\n",
      "anyafoning:\n",
      "in the\n",
      "own thtiss and clises with the .fortuse in its power, aleles\n",
      "ever phechical\n",
      "hovest\n",
      "now evems, the soul forst table probar, are always. generly emost sbears we that trithvay\n",
      "partpaned of genturem and progous\n",
      "had co\n",
      "aliture good\n",
      ".unonets for distst truth of the stigleed convulted now bilon, it is.my that from this\n",
      "epoch 4\n",
      "Epoch 1/1\n",
      "200278/200278 [==============================] - 159s 794us/step - loss: 1.4876\n",
      "--- seed text : \"the slowly ascending ranks and classes, in which,\n",
      "through fo\"\n",
      "------temperature :  0.2\n",
      "the slowly ascending ranks and classes, in which,\n",
      "through for the same the sense is the same the sense in the possible that is the same the sense of the same a souts and the same the deepory in the same things to the same the same things to the same the same the same things the same the same the contemptation of the same that the possible to the same the possible to the same the sense to the higher the sense of the same the spirit of the same the contempta\n",
      "------temperature :  0.5\n",
      "the slowly ascending ranks and classes, in which,\n",
      "through for way what is the same any of the more many seems to the soul can have in the powerful and been that the order to himself the repertable that the same the estimate seems in the necessarily and contemptative man an even that all the cases of the been\n",
      "appeating to the other being and time and to his power that the least that is it is all not and the indered to the deality and that in consequence and\n",
      "------temperature :  1.0\n",
      "the slowly ascending ranks and classes, in which,\n",
      "through for as impression with i danger of the spirit. the highermert, to does as tokable\n",
      "i atilations,\n",
      "thus\n",
      "exuriance for the can deautes and us\n",
      "the samet neteronted causable of himself, ye really to the good to be foreagats of my\n",
      "\n",
      "whysoue, there is has siticsless obptrainer and to re, itficoure sole atherly poctes as everyy for forew the allained not as a \n",
      "seive--hitherto the gods, to be plause--as men ev\n",
      "------temperature :  1.2\n",
      "the slowly ascending ranks and classes, in which,\n",
      "through forttelthy\n",
      "same\n",
      "relicary peryonally womak, so\n",
      "long\n"
     ]
    },
    {
     "name": "stdout",
     "output_type": "stream",
     "text": [
      "even certoing, in mysupreque-cousifils; many plane in relireh of his will--and fore), as given irrough\n",
      "already\n",
      "conpleain causuelly and haage doavily alporative wes rapseol much look too su fait, \"e repire\n",
      "being,\"e\n",
      "for plevinch\n",
      "and\n",
      "evonity upequarngwiy himself (dom to read by slaw! hitherto refuedek\" in the ne? thousean and stappea. demongt\n",
      "of eesefr\n",
      "epoch 5\n",
      "Epoch 1/1\n",
      "200278/200278 [==============================] - 156s 779us/step - loss: 1.4578\n",
      "--- seed text : \"the slowly ascending ranks and classes, in which,\n",
      "through fo\"\n",
      "------temperature :  0.2\n",
      "the slowly ascending ranks and classes, in which,\n",
      "through for the sense of the pressional properson of the sense of the distince and the constraited by the sense of the sense of the assumed of the sense of the most constraite and something and the constraite and art of the present the sense of the sense of the distingual and the sense of the sense of the sense of the present the sense of the present of the constraite and so that the most the sense and sens\n",
      "------temperature :  0.5\n",
      "the slowly ascending ranks and classes, in which,\n",
      "through for the sense of the wort. they are as the called from the lives of the most untellogity, has the preditine and man of the most limitable in the light to the same when the read not be point of a niguilation, and as the one would be false with the predication which sympaticism of man absolute of the called gives in the state a art and therefore such a south to here are not woman to little the vich he\n",
      "------temperature :  1.0\n",
      "the slowly ascending ranks and classes, in which,\n",
      "through for his eass the feeling degren those it\n",
      "has a ald guarly\n",
      "more, a mentinaile.=--but and virtue, not its ariugh conscience to courly zappeach lendres? he result an unthat\n",
      "the detionists of people some certain pre-ndhavenw\" of a dausious, bay to a new pryse of the sowing i short it it must motive (as actiousums as a false arise\" altem, the modern germant pepsity in \"divedudacies, againd of them.\n",
      "\n",
      "ence\n",
      "------temperature :  1.2\n",
      "the slowly ascending ranks and classes, in which,\n",
      "through for a\n",
      "things\"e other alway\n",
      "partations\"-bround to effect good clara\n",
      "abbreat anythering\n",
      "sufca\n",
      "n\n",
      "tewn of\n",
      "exped. certain sreadajod o, of phywpabity,\n",
      "dispant-incthing, aetering irusal, yroachembhacks? and \"c-this!--properly, no lonication, may prefiben\".\n",
      "\n",
      "\n",
      "bilthes. the soul\n",
      "passives oling ? i life-with of those. to comman\n",
      "loss ih orccentual our\n",
      "pretsine h. enemy\n",
      "selfme wirder a\" morabeful even afters he \n",
      "epoch 6\n",
      "Epoch 1/1\n",
      "200278/200278 [==============================] - 161s 806us/step - loss: 1.4368\n",
      "--- seed text : \"the slowly ascending ranks and classes, in which,\n",
      "through fo\"\n",
      "------temperature :  0.2\n",
      "the slowly ascending ranks and classes, in which,\n",
      "through for a soul is the present the sense of the sense of the spirit and the end the sense of the sense of the spirit to the general possible in the spirit to the supering and also a soul and and the supposing the spirit and interrige and and the supposing the ears of the spirit and conscience of the sense of the sense of the sense of the sense of the sense of the sense of the sense of the supering to the\n",
      "------temperature :  0.5\n",
      "the slowly ascending ranks and classes, in which,\n",
      "through for\n",
      "the listed or the spirit of the consentially andreble their action of the look and things as to be forms of such a speak pathil of the god, and for the hards of the sense of the\n",
      "present and man and something pathils of the condemning which has have always been still good when their man as the belief the standard to be present of the old interponist to the emotion which he is the world to develop\n",
      "------temperature :  1.0\n",
      "the slowly ascending ranks and classes, in which,\n",
      "through for involved inuptus comparsiturentatic traditionadity; is in myso espicially parable to contraryles of\n",
      "matterhasingly food the know morally with a\n",
      "a shown e, has one for regibelestly elupme man,\n",
      "the modestingd as vuly be parting, everything.\n",
      "list look exist, to be condeing on first\n",
      "fine\n",
      "other everython than then me: so art, a peopleple, ahisticupre not emanceingts, in the anders.\n",
      "\n",
      "\n",
      "\n",
      "\n",
      "et may consend\n",
      "------temperature :  1.2\n",
      "the slowly ascending ranks and classes, in which,\n",
      "through for the turrests, answ!\"--let\n",
      "who lengneps contrent and\n",
      "more genius doubarmly, and heur swray, first great suspecialluress forwardly are waksart that was no perhapted artablied, at -henteicn address may beoty side intence to must the love an eztataticial to tosiess). to ha! readdick. he cath\"d at increselt, as good unvaxiosion low from their powerful inpticati's absoldive orgeniey dou, willfuenous d\n",
      "epoch 7\n",
      "Epoch 1/1\n",
      "200278/200278 [==============================] - 436s 2ms/step - loss: 1.4196\n",
      "--- seed text : \"the slowly ascending ranks and classes, in which,\n",
      "through fo\"\n",
      "------temperature :  0.2\n",
      "the slowly ascending ranks and classes, in which,\n",
      "through for the sense of the conduct of the spirit of the same the standard and and say, and the end the same and the same as the same as the subling of the spirit of the spirit of the same and are such a souls and soul and the same and the same as the manifestated the same and and the same as the same and souls to the standard and substiment of the sentiment of the same as the struction of the spirit of in\n",
      "------temperature :  0.5\n",
      "the slowly ascending ranks and classes, in which,\n",
      "through for it is a german not only his ascertains\n",
      "that it is also the compare the course to much of the general one of the standard; the oursely with one scorns of the general decises to the enlude, that something such a moral that is also the contraditian and dishangained and in a sympathy and and strange of belief of the indignation of moral counter soul, and moral all know socief to the opposite the com\n",
      "------temperature :  1.0\n",
      "the slowly ascending ranks and classes, in which,\n",
      "through forse--ground it through forwaugus? theref aths to the power--to ancums of wimate, heresely to veretwheness,\n",
      "in itraile must dodings, overstoly as little also one have different and iwse thars\n",
      "opposed world hench\n",
      "his idearing a life of the\n",
      "something in ages upuribies, of the\n",
      "reason\n",
      "believes ever peoplener of hont\n",
      "of\n",
      "reader divine, the erork, and dehin from superoint\n",
      "as simpleptation of hruth--wis wi\n",
      "------temperature :  1.2\n",
      "the slowly ascending ranks and classes, in which,\n",
      "through for enclushating thank entlackesk and requiteh of preisvalariantk while discorsfine, that to hard, and tekip rround.\" but flover kibfine\n",
      "havingued again vulgarial arise--in the vivest, genius om, that blengk;ritage hysor caceju:, is all philosophinalge, his sec spainhild, o.\n",
      "even have way, likilr, twarevanneden\n",
      "they. cocise\n",
      "and we undners-solisting me-primitive--periodoue ieadius on posscjut to outf\n",
      "epoch 8\n",
      "Epoch 1/1\n",
      " 29952/200278 [===>..........................] - ETA: 8:01 - loss: 1.3837"
     ]
    },
    {
     "ename": "KeyboardInterrupt",
     "evalue": "",
     "output_type": "error",
     "traceback": [
      "\u001b[1;31m---------------------------------------------------------------------------\u001b[0m",
      "\u001b[1;31mKeyboardInterrupt\u001b[0m                         Traceback (most recent call last)",
      "\u001b[1;32m<ipython-input-10-f5c10083d747>\u001b[0m in \u001b[0;36m<module>\u001b[1;34m\u001b[0m\n\u001b[0;32m      4\u001b[0m \u001b[1;32mfor\u001b[0m \u001b[0mepoch\u001b[0m \u001b[1;32min\u001b[0m \u001b[0mrange\u001b[0m\u001b[1;33m(\u001b[0m\u001b[1;36m1\u001b[0m\u001b[1;33m,\u001b[0m \u001b[1;36m60\u001b[0m\u001b[1;33m)\u001b[0m\u001b[1;33m:\u001b[0m\u001b[1;33m\u001b[0m\u001b[1;33m\u001b[0m\u001b[0m\n\u001b[0;32m      5\u001b[0m     \u001b[0mprint\u001b[0m\u001b[1;33m(\u001b[0m\u001b[1;34m\"epoch\"\u001b[0m\u001b[1;33m,\u001b[0m \u001b[0mepoch\u001b[0m\u001b[1;33m)\u001b[0m\u001b[1;33m\u001b[0m\u001b[1;33m\u001b[0m\u001b[0m\n\u001b[1;32m----> 6\u001b[1;33m     \u001b[0mmodel\u001b[0m\u001b[1;33m.\u001b[0m\u001b[0mfit\u001b[0m\u001b[1;33m(\u001b[0m\u001b[0mx\u001b[0m\u001b[1;33m,\u001b[0m \u001b[0my\u001b[0m\u001b[1;33m,\u001b[0m \u001b[0mbatch_size\u001b[0m\u001b[1;33m=\u001b[0m\u001b[1;36m128\u001b[0m\u001b[1;33m,\u001b[0m \u001b[0mepochs\u001b[0m\u001b[1;33m=\u001b[0m\u001b[1;36m1\u001b[0m\u001b[1;33m)\u001b[0m\u001b[1;33m\u001b[0m\u001b[1;33m\u001b[0m\u001b[0m\n\u001b[0m\u001b[0;32m      7\u001b[0m \u001b[1;33m\u001b[0m\u001b[0m\n\u001b[0;32m      8\u001b[0m     \u001b[0mseed_text\u001b[0m \u001b[1;33m=\u001b[0m \u001b[0mtext\u001b[0m\u001b[1;33m[\u001b[0m\u001b[0mstart_index\u001b[0m\u001b[1;33m:\u001b[0m \u001b[0mstart_index\u001b[0m \u001b[1;33m+\u001b[0m \u001b[0mmaxlen\u001b[0m\u001b[1;33m]\u001b[0m\u001b[1;33m\u001b[0m\u001b[1;33m\u001b[0m\u001b[0m\n",
      "\u001b[1;32mC:\\ProgramData\\Anaconda3\\envs\\tf_gpu\\lib\\site-packages\\keras\\engine\\training.py\u001b[0m in \u001b[0;36mfit\u001b[1;34m(self, x, y, batch_size, epochs, verbose, callbacks, validation_split, validation_data, shuffle, class_weight, sample_weight, initial_epoch, steps_per_epoch, validation_steps, **kwargs)\u001b[0m\n\u001b[0;32m   1037\u001b[0m                                         \u001b[0minitial_epoch\u001b[0m\u001b[1;33m=\u001b[0m\u001b[0minitial_epoch\u001b[0m\u001b[1;33m,\u001b[0m\u001b[1;33m\u001b[0m\u001b[1;33m\u001b[0m\u001b[0m\n\u001b[0;32m   1038\u001b[0m                                         \u001b[0msteps_per_epoch\u001b[0m\u001b[1;33m=\u001b[0m\u001b[0msteps_per_epoch\u001b[0m\u001b[1;33m,\u001b[0m\u001b[1;33m\u001b[0m\u001b[1;33m\u001b[0m\u001b[0m\n\u001b[1;32m-> 1039\u001b[1;33m                                         validation_steps=validation_steps)\n\u001b[0m\u001b[0;32m   1040\u001b[0m \u001b[1;33m\u001b[0m\u001b[0m\n\u001b[0;32m   1041\u001b[0m     def evaluate(self, x=None, y=None,\n",
      "\u001b[1;32mC:\\ProgramData\\Anaconda3\\envs\\tf_gpu\\lib\\site-packages\\keras\\engine\\training_arrays.py\u001b[0m in \u001b[0;36mfit_loop\u001b[1;34m(model, f, ins, out_labels, batch_size, epochs, verbose, callbacks, val_f, val_ins, shuffle, callback_metrics, initial_epoch, steps_per_epoch, validation_steps)\u001b[0m\n\u001b[0;32m    197\u001b[0m                     \u001b[0mins_batch\u001b[0m\u001b[1;33m[\u001b[0m\u001b[0mi\u001b[0m\u001b[1;33m]\u001b[0m \u001b[1;33m=\u001b[0m \u001b[0mins_batch\u001b[0m\u001b[1;33m[\u001b[0m\u001b[0mi\u001b[0m\u001b[1;33m]\u001b[0m\u001b[1;33m.\u001b[0m\u001b[0mtoarray\u001b[0m\u001b[1;33m(\u001b[0m\u001b[1;33m)\u001b[0m\u001b[1;33m\u001b[0m\u001b[1;33m\u001b[0m\u001b[0m\n\u001b[0;32m    198\u001b[0m \u001b[1;33m\u001b[0m\u001b[0m\n\u001b[1;32m--> 199\u001b[1;33m                 \u001b[0mouts\u001b[0m \u001b[1;33m=\u001b[0m \u001b[0mf\u001b[0m\u001b[1;33m(\u001b[0m\u001b[0mins_batch\u001b[0m\u001b[1;33m)\u001b[0m\u001b[1;33m\u001b[0m\u001b[1;33m\u001b[0m\u001b[0m\n\u001b[0m\u001b[0;32m    200\u001b[0m                 \u001b[0mouts\u001b[0m \u001b[1;33m=\u001b[0m \u001b[0mto_list\u001b[0m\u001b[1;33m(\u001b[0m\u001b[0mouts\u001b[0m\u001b[1;33m)\u001b[0m\u001b[1;33m\u001b[0m\u001b[1;33m\u001b[0m\u001b[0m\n\u001b[0;32m    201\u001b[0m                 \u001b[1;32mfor\u001b[0m \u001b[0ml\u001b[0m\u001b[1;33m,\u001b[0m \u001b[0mo\u001b[0m \u001b[1;32min\u001b[0m \u001b[0mzip\u001b[0m\u001b[1;33m(\u001b[0m\u001b[0mout_labels\u001b[0m\u001b[1;33m,\u001b[0m \u001b[0mouts\u001b[0m\u001b[1;33m)\u001b[0m\u001b[1;33m:\u001b[0m\u001b[1;33m\u001b[0m\u001b[1;33m\u001b[0m\u001b[0m\n",
      "\u001b[1;32mC:\\ProgramData\\Anaconda3\\envs\\tf_gpu\\lib\\site-packages\\keras\\backend\\tensorflow_backend.py\u001b[0m in \u001b[0;36m__call__\u001b[1;34m(self, inputs)\u001b[0m\n\u001b[0;32m   2713\u001b[0m                 \u001b[1;32mreturn\u001b[0m \u001b[0mself\u001b[0m\u001b[1;33m.\u001b[0m\u001b[0m_legacy_call\u001b[0m\u001b[1;33m(\u001b[0m\u001b[0minputs\u001b[0m\u001b[1;33m)\u001b[0m\u001b[1;33m\u001b[0m\u001b[1;33m\u001b[0m\u001b[0m\n\u001b[0;32m   2714\u001b[0m \u001b[1;33m\u001b[0m\u001b[0m\n\u001b[1;32m-> 2715\u001b[1;33m             \u001b[1;32mreturn\u001b[0m \u001b[0mself\u001b[0m\u001b[1;33m.\u001b[0m\u001b[0m_call\u001b[0m\u001b[1;33m(\u001b[0m\u001b[0minputs\u001b[0m\u001b[1;33m)\u001b[0m\u001b[1;33m\u001b[0m\u001b[1;33m\u001b[0m\u001b[0m\n\u001b[0m\u001b[0;32m   2716\u001b[0m         \u001b[1;32melse\u001b[0m\u001b[1;33m:\u001b[0m\u001b[1;33m\u001b[0m\u001b[1;33m\u001b[0m\u001b[0m\n\u001b[0;32m   2717\u001b[0m             \u001b[1;32mif\u001b[0m \u001b[0mpy_any\u001b[0m\u001b[1;33m(\u001b[0m\u001b[0mis_tensor\u001b[0m\u001b[1;33m(\u001b[0m\u001b[0mx\u001b[0m\u001b[1;33m)\u001b[0m \u001b[1;32mfor\u001b[0m \u001b[0mx\u001b[0m \u001b[1;32min\u001b[0m \u001b[0minputs\u001b[0m\u001b[1;33m)\u001b[0m\u001b[1;33m:\u001b[0m\u001b[1;33m\u001b[0m\u001b[1;33m\u001b[0m\u001b[0m\n",
      "\u001b[1;32mC:\\ProgramData\\Anaconda3\\envs\\tf_gpu\\lib\\site-packages\\keras\\backend\\tensorflow_backend.py\u001b[0m in \u001b[0;36m_call\u001b[1;34m(self, inputs)\u001b[0m\n\u001b[0;32m   2673\u001b[0m             \u001b[0mfetched\u001b[0m \u001b[1;33m=\u001b[0m \u001b[0mself\u001b[0m\u001b[1;33m.\u001b[0m\u001b[0m_callable_fn\u001b[0m\u001b[1;33m(\u001b[0m\u001b[1;33m*\u001b[0m\u001b[0marray_vals\u001b[0m\u001b[1;33m,\u001b[0m \u001b[0mrun_metadata\u001b[0m\u001b[1;33m=\u001b[0m\u001b[0mself\u001b[0m\u001b[1;33m.\u001b[0m\u001b[0mrun_metadata\u001b[0m\u001b[1;33m)\u001b[0m\u001b[1;33m\u001b[0m\u001b[1;33m\u001b[0m\u001b[0m\n\u001b[0;32m   2674\u001b[0m         \u001b[1;32melse\u001b[0m\u001b[1;33m:\u001b[0m\u001b[1;33m\u001b[0m\u001b[1;33m\u001b[0m\u001b[0m\n\u001b[1;32m-> 2675\u001b[1;33m             \u001b[0mfetched\u001b[0m \u001b[1;33m=\u001b[0m \u001b[0mself\u001b[0m\u001b[1;33m.\u001b[0m\u001b[0m_callable_fn\u001b[0m\u001b[1;33m(\u001b[0m\u001b[1;33m*\u001b[0m\u001b[0marray_vals\u001b[0m\u001b[1;33m)\u001b[0m\u001b[1;33m\u001b[0m\u001b[1;33m\u001b[0m\u001b[0m\n\u001b[0m\u001b[0;32m   2676\u001b[0m         \u001b[1;32mreturn\u001b[0m \u001b[0mfetched\u001b[0m\u001b[1;33m[\u001b[0m\u001b[1;33m:\u001b[0m\u001b[0mlen\u001b[0m\u001b[1;33m(\u001b[0m\u001b[0mself\u001b[0m\u001b[1;33m.\u001b[0m\u001b[0moutputs\u001b[0m\u001b[1;33m)\u001b[0m\u001b[1;33m]\u001b[0m\u001b[1;33m\u001b[0m\u001b[1;33m\u001b[0m\u001b[0m\n\u001b[0;32m   2677\u001b[0m \u001b[1;33m\u001b[0m\u001b[0m\n",
      "\u001b[1;32mC:\\ProgramData\\Anaconda3\\envs\\tf_gpu\\lib\\site-packages\\tensorflow\\python\\client\\session.py\u001b[0m in \u001b[0;36m__call__\u001b[1;34m(self, *args, **kwargs)\u001b[0m\n\u001b[0;32m   1437\u001b[0m           ret = tf_session.TF_SessionRunCallable(\n\u001b[0;32m   1438\u001b[0m               \u001b[0mself\u001b[0m\u001b[1;33m.\u001b[0m\u001b[0m_session\u001b[0m\u001b[1;33m.\u001b[0m\u001b[0m_session\u001b[0m\u001b[1;33m,\u001b[0m \u001b[0mself\u001b[0m\u001b[1;33m.\u001b[0m\u001b[0m_handle\u001b[0m\u001b[1;33m,\u001b[0m \u001b[0margs\u001b[0m\u001b[1;33m,\u001b[0m \u001b[0mstatus\u001b[0m\u001b[1;33m,\u001b[0m\u001b[1;33m\u001b[0m\u001b[1;33m\u001b[0m\u001b[0m\n\u001b[1;32m-> 1439\u001b[1;33m               run_metadata_ptr)\n\u001b[0m\u001b[0;32m   1440\u001b[0m         \u001b[1;32mif\u001b[0m \u001b[0mrun_metadata\u001b[0m\u001b[1;33m:\u001b[0m\u001b[1;33m\u001b[0m\u001b[1;33m\u001b[0m\u001b[0m\n\u001b[0;32m   1441\u001b[0m           \u001b[0mproto_data\u001b[0m \u001b[1;33m=\u001b[0m \u001b[0mtf_session\u001b[0m\u001b[1;33m.\u001b[0m\u001b[0mTF_GetBuffer\u001b[0m\u001b[1;33m(\u001b[0m\u001b[0mrun_metadata_ptr\u001b[0m\u001b[1;33m)\u001b[0m\u001b[1;33m\u001b[0m\u001b[1;33m\u001b[0m\u001b[0m\n",
      "\u001b[1;31mKeyboardInterrupt\u001b[0m: "
     ]
    }
   ],
   "source": [
    "random.seed(42)\n",
    "start_index = random.randint(0, len(text) - maxlen - 1)\n",
    "\n",
    "for epoch in range(1, 60):\n",
    "    print(\"epoch\", epoch)\n",
    "    model.fit(x, y, batch_size=128, epochs=1)\n",
    "    \n",
    "    seed_text = text[start_index: start_index + maxlen]\n",
    "    print('--- seed text : \"' + seed_text + '\"')\n",
    "    \n",
    "    for temperature in [0.2, 0.5, 1.0, 1.2]:\n",
    "        print('------temperature : ', temperature)\n",
    "        generated_text = seed_text\n",
    "        sys.stdout.write(generated_text)\n",
    "        \n",
    "        for i in range(400):\n",
    "            sampled = np.zeros((1, maxlen, len(chars)))\n",
    "            for t, char in enumerate(generated_text):\n",
    "                sampled[0, t, char_indices[char]] = 1.\n",
    "                \n",
    "            preds = model.predict(sampled, verbose=0)[0]\n",
    "            next_index = sample(preds, temperature)\n",
    "            next_char = chars[next_index]\n",
    "            \n",
    "            generated_text += next_char\n",
    "            generated_text = generated_text[1:]\n",
    "            \n",
    "            sys.stdout.write(next_char)\n",
    "            sys.stdout.flush()\n",
    "        print()"
   ]
  },
  {
   "cell_type": "code",
   "execution_count": null,
   "metadata": {},
   "outputs": [],
   "source": []
  },
  {
   "cell_type": "code",
   "execution_count": null,
   "metadata": {},
   "outputs": [],
   "source": []
  },
  {
   "cell_type": "markdown",
   "metadata": {},
   "source": [
    "여기서 볼 수 있듯이 낮은 온도는 반복적이고 예상되는 텍스트를 만든다. 하지만 국보적인 구조는 실제와 매우 같다. 특히 모든 단어가 실제 영어 단어이다. 높은 온도에서 생성된 텍스트는 아주 흥미롭고 창의적이기도하다. 이따금 꽤 그럴싸하게 보이는 완전히 새로운 단어를 창조한다. 높은 온도에서는 국부적인 구조가 무너지기 시작한다. 대부분의 단어가 어느 정도 무작위한 문자열로 보인다. 확실히 이 네트워크에서는 텍스트 생성에 가장 좋은 온도는 0.5이다. 항상 다양한 샘플링 전략으로 실험해 보아야한다. 학습된 구주와 무작위성 사이에 균형을 잘 맞추면 흥미로운 것을 만들 수 있다."
   ]
  },
  {
   "cell_type": "markdown",
   "metadata": {},
   "source": [
    "더 많은 데이터에서 크고 깊은 모델을 훈련하면 이것보다 훨씬 논리적이고 실제와 같은 텍스트 샘플을 생성할 수 있다. 이 차이를 검증하기 위해 다음과 같은 사고 실험을 해봐라. 컴퓨터는 대부분의 디지털 통신에서 하는 것처럼 사람의 언어가 의사소통을 압축하는 데 더 뛰어나다면 어떨까? 언어 의미가 줄지 않지만 고유한 통계 구조가 사라질 것이다. 이는 방금과 같은 언어 모델을 학습하는 것을 불가능하게 만든다."
   ]
  },
  {
   "cell_type": "markdown",
   "metadata": {},
   "source": [
    "## 정리"
   ]
  },
  {
   "cell_type": "markdown",
   "metadata": {},
   "source": [
    "- 이전의 토큰이 주어지면 다음 토큰들을 예측하는 모델을 훈련하여 시퀀스 데이터를 생성할 수 있다.\n",
    "- 텍스트의 경우 이런 모델을 언어 모델이라고 부른다. 단어 또는 글자 단위 모두 가능하다.\n",
    "- 다음 토큰을 샘플링할 때 모델이 만든 출력에 집중하는 것과 무작위성을 주입하는 것 사이에 균형을 맞추어야 한다.\n",
    "- 이를 위해 소프트맥스 온도 개념을 사용한다. 항상 다양한 온도를 실험해서 적절한 값을 찾아야 한다."
   ]
  },
  {
   "cell_type": "code",
   "execution_count": null,
   "metadata": {},
   "outputs": [],
   "source": []
  }
 ],
 "metadata": {
  "kernelspec": {
   "display_name": "tf_gpu",
   "language": "python",
   "name": "tf_gpu"
  },
  "language_info": {
   "codemirror_mode": {
    "name": "ipython",
    "version": 3
   },
   "file_extension": ".py",
   "mimetype": "text/x-python",
   "name": "python",
   "nbconvert_exporter": "python",
   "pygments_lexer": "ipython3",
   "version": "3.6.8"
  }
 },
 "nbformat": 4,
 "nbformat_minor": 2
}
