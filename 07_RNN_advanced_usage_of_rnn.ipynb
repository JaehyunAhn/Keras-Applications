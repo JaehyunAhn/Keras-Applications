{
 "cells": [
  {
   "cell_type": "markdown",
   "metadata": {},
   "source": [
    "# 기온 예측 문제"
   ]
  },
  {
   "cell_type": "code",
   "execution_count": 1,
   "metadata": {},
   "outputs": [],
   "source": [
    "import os\n",
    "\n",
    "data_dir = \"datasets/jena_climate/\"\n",
    "fname = os.path.join(data_dir, 'jena_climate_2009_2016.csv')\n",
    "\n",
    "f = open(fname)\n",
    "data = f.read()\n",
    "f.close()"
   ]
  },
  {
   "cell_type": "code",
   "execution_count": 2,
   "metadata": {},
   "outputs": [
    {
     "name": "stdout",
     "output_type": "stream",
     "text": [
      "['\"Date Time\"', '\"p (mbar)\"', '\"T (degC)\"', '\"Tpot (K)\"', '\"Tdew (degC)\"', '\"rh (%)\"', '\"VPmax (mbar)\"', '\"VPact (mbar)\"', '\"VPdef (mbar)\"', '\"sh (g/kg)\"', '\"H2OC (mmol/mol)\"', '\"rho (g/m**3)\"', '\"wv (m/s)\"', '\"max. wv (m/s)\"', '\"wd (deg)\"']\n",
      "420551\n"
     ]
    }
   ],
   "source": [
    "lines = data.split('\\n')\n",
    "header = lines[0].split(',')\n",
    "lines = lines[1:]\n",
    "\n",
    "print(header)\n",
    "print(len(lines))"
   ]
  },
  {
   "cell_type": "code",
   "execution_count": 3,
   "metadata": {},
   "outputs": [],
   "source": [
    "import numpy as np\n",
    "\n",
    "float_data = np.zeros((len(lines), len(header) - 1))\n",
    "for i, line in enumerate(lines):\n",
    "    values = [float(x) for x in line.split(',')[1:]]\n",
    "    float_data[i, :] = values"
   ]
  },
  {
   "cell_type": "code",
   "execution_count": 4,
   "metadata": {},
   "outputs": [
    {
     "data": {
      "text/plain": [
       "[<matplotlib.lines.Line2D at 0x1c38ad19898>]"
      ]
     },
     "execution_count": 4,
     "metadata": {},
     "output_type": "execute_result"
    }
   ],
   "source": [
    "from matplotlib import pyplot as plt\n",
    "\n",
    "temp = float_data[:, 1]\n",
    "plt.plot(range(len(temp)), temp)"
   ]
  },
  {
   "cell_type": "code",
   "execution_count": 5,
   "metadata": {},
   "outputs": [
    {
     "data": {
      "text/plain": [
       "[<matplotlib.lines.Line2D at 0x1c38b512a90>]"
      ]
     },
     "execution_count": 5,
     "metadata": {},
     "output_type": "execute_result"
    },
    {
     "data": {
      "image/png": "[encoded data removed]",
      "text/plain": [
       "<Figure size 432x288 with 1 Axes>"
      ]
     },
     "metadata": {},
     "output_type": "display_data"
    }
   ],
   "source": [
    "plt.plot(range(1440), temp[:1440])"
   ]
  },
  {
   "cell_type": "code",
   "execution_count": 6,
   "metadata": {},
   "outputs": [],
   "source": [
    "mean = float_data[:200000].mean(axis=0)\n",
    "float_data -= mean\n",
    "std = float_data[:200000].std(axis=0)\n",
    "float_data /= std"
   ]
  },
  {
   "cell_type": "code",
   "execution_count": 7,
   "metadata": {},
   "outputs": [],
   "source": [
    "def generator(data, lookback, delay, min_index, max_index,\n",
    "              shuffle=False, batch_size=128, step=6):\n",
    "    if max_index is None:\n",
    "        max_index = len(data) - delay - 1\n",
    "    i = min_index + lookback\n",
    "    while True:\n",
    "        if shuffle:\n",
    "            rows = np.random.randint(\n",
    "                min_index + lookback, max_index, size =batch_size)\n",
    "        else:\n",
    "            if i + batch_size >= max_index:\n",
    "                i = min_index + lookback\n",
    "            rows = np.arange(i, min(i + batch_size, max_index))\n",
    "            i += len(rows)\n",
    "            \n",
    "        samples = np.zeros((len(rows),\n",
    "                            lookback // step,\n",
    "                            data.shape[-1]))\n",
    "        targets = np.zeros((len(rows),))\n",
    "        for j, row in enumerate(rows):\n",
    "            indices = range(rows[j] - lookback, rows[j], step)\n",
    "            samples[j] = data[indices]\n",
    "            targets[j] = data[rows[j] + delay][1]\n",
    "        yield samples, targets"
   ]
  },
  {
   "cell_type": "code",
   "execution_count": 8,
   "metadata": {},
   "outputs": [],
   "source": [
    "lookback = 1440\n",
    "step = 6\n",
    "delay = 144\n",
    "batch_size = 128\n",
    "\n",
    "train_gen = generator(float_data,\n",
    "                      lookback=lookback,\n",
    "                      delay=delay,\n",
    "                      min_index=0,\n",
    "                      max_index=200000,\n",
    "                      shuffle = True,\n",
    "                      step = step,\n",
    "                      batch_size =batch_size)\n",
    "val_gen = generator(float_data,\n",
    "                      lookback=lookback,\n",
    "                      delay=delay,\n",
    "                      min_index=200001,\n",
    "                      max_index=300000,\n",
    "                      step = step,\n",
    "                      batch_size =batch_size)\n",
    "test_gen = generator(float_data,\n",
    "                      lookback=lookback,\n",
    "                      delay=delay,\n",
    "                      min_index=300001,\n",
    "                      max_index=None,\n",
    "                      step = step,\n",
    "                      batch_size =batch_size)\n",
    "\n",
    "val_steps = (300000 - 200001 - lookback) // batch_size\n",
    "\n",
    "test_steps = (len(float_data) - 300001 - lookback) // batch_size"
   ]
  },
  {
   "cell_type": "code",
   "execution_count": 9,
   "metadata": {},
   "outputs": [
    {
     "name": "stdout",
     "output_type": "stream",
     "text": [
      "0.2897359729905486\n"
     ]
    }
   ],
   "source": [
    "def evaluate_native_method():\n",
    "    batch_maes = []\n",
    "    for step in range(val_steps):\n",
    "        samples, targets = next(val_gen)\n",
    "        preds = samples[:, -1, 1]\n",
    "        mae = np.mean(np.abs(preds - targets))\n",
    "        batch_maes.append(mae)\n",
    "    print(np.mean(batch_maes))\n",
    "    \n",
    "evaluate_native_method()"
   ]
  },
  {
   "cell_type": "code",
   "execution_count": 10,
   "metadata": {},
   "outputs": [
    {
     "data": {
      "text/plain": [
       "2.5672247338393395"
      ]
     },
     "execution_count": 10,
     "metadata": {},
     "output_type": "execute_result"
    }
   ],
   "source": [
    "celsius_mae = 0.29 * std[1]\n",
    "celsius_mae"
   ]
  },
  {
   "cell_type": "markdown",
   "metadata": {},
   "source": [
    "## 기본적인 머신 러닝"
   ]
  },
  {
   "cell_type": "code",
   "execution_count": 11,
   "metadata": {},
   "outputs": [
    {
     "name": "stderr",
     "output_type": "stream",
     "text": [
      "Using TensorFlow backend.\n"
     ]
    }
   ],
   "source": [
    "from keras.models import Sequential\n",
    "from keras import layers\n",
    "from keras.optimizers import RMSprop"
   ]
  },
  {
   "cell_type": "code",
   "execution_count": 12,
   "metadata": {},
   "outputs": [
    {
     "name": "stdout",
     "output_type": "stream",
     "text": [
      "Epoch 1/20\n",
      "500/500 [==============================] - 14s 29ms/step - loss: 1.4326 - val_loss: 0.6737\n",
      "Epoch 2/20\n",
      "500/500 [==============================] - 11s 22ms/step - loss: 0.4680 - val_loss: 0.4874\n",
      "Epoch 3/20\n",
      "500/500 [==============================] - 11s 22ms/step - loss: 0.2993 - val_loss: 0.3444\n",
      "Epoch 4/20\n",
      "500/500 [==============================] - 11s 22ms/step - loss: 0.2668 - val_loss: 0.3194\n",
      "Epoch 5/20\n",
      "500/500 [==============================] - 11s 22ms/step - loss: 0.2520 - val_loss: 0.3059\n",
      "Epoch 6/20\n",
      "500/500 [==============================] - 11s 22ms/step - loss: 0.2434 - val_loss: 0.3213\n",
      "Epoch 7/20\n",
      "500/500 [==============================] - 11s 22ms/step - loss: 0.2359 - val_loss: 0.3233\n",
      "Epoch 8/20\n",
      "500/500 [==============================] - 11s 23ms/step - loss: 0.2293 - val_loss: 0.3337\n",
      "Epoch 9/20\n",
      "500/500 [==============================] - 11s 23ms/step - loss: 0.2258 - val_loss: 0.3277\n",
      "Epoch 10/20\n",
      "500/500 [==============================] - 11s 22ms/step - loss: 0.2199 - val_loss: 0.3367\n",
      "Epoch 11/20\n",
      "500/500 [==============================] - 11s 22ms/step - loss: 0.2164 - val_loss: 0.3366\n",
      "Epoch 12/20\n",
      "500/500 [==============================] - 11s 22ms/step - loss: 0.2142 - val_loss: 0.3447\n",
      "Epoch 13/20\n",
      "500/500 [==============================] - 11s 22ms/step - loss: 0.2121 - val_loss: 0.3336\n",
      "Epoch 14/20\n",
      "500/500 [==============================] - 11s 22ms/step - loss: 0.2092 - val_loss: 0.3806\n",
      "Epoch 15/20\n",
      "500/500 [==============================] - 11s 22ms/step - loss: 0.2067 - val_loss: 0.3547\n",
      "Epoch 16/20\n",
      "500/500 [==============================] - 11s 23ms/step - loss: 0.2064 - val_loss: 0.3624\n",
      "Epoch 17/20\n",
      "500/500 [==============================] - 11s 22ms/step - loss: 0.2032 - val_loss: 0.3697\n",
      "Epoch 18/20\n",
      "500/500 [==============================] - 13s 25ms/step - loss: 0.2001 - val_loss: 0.3367\n",
      "Epoch 19/20\n",
      "500/500 [==============================] - 11s 23ms/step - loss: 0.1992 - val_loss: 0.3405\n",
      "Epoch 20/20\n",
      "500/500 [==============================] - 11s 23ms/step - loss: 0.1993 - val_loss: 0.3550\n"
     ]
    }
   ],
   "source": [
    "model = Sequential()\n",
    "model.add(layers.Flatten(input_shape=(lookback // step, float_data.shape[-1])))\n",
    "model.add(layers.Dense(32, activation='relu'))\n",
    "model.add(layers.Dense(1))\n",
    "\n",
    "model.compile(optimizer=RMSprop(), loss='mae')\n",
    "history = model.fit_generator(train_gen,\n",
    "                              steps_per_epoch=500,\n",
    "                              epochs=20,\n",
    "                              validation_data=val_gen,\n",
    "                              validation_steps=val_steps)"
   ]
  },
  {
   "cell_type": "code",
   "execution_count": 14,
   "metadata": {},
   "outputs": [
    {
     "data": {
      "image/png": "[encoded data removed]",
      "text/plain": [
       "<Figure size 432x288 with 1 Axes>"
      ]
     },
     "metadata": {},
     "output_type": "display_data"
    }
   ],
   "source": [
    "import matplotlib.pyplot as plt\n",
    "\n",
    "loss = history.history['loss']\n",
    "val_loss = history.history['val_loss']\n",
    "\n",
    "epochs = range(1, len(loss) + 1)\n",
    "\n",
    "plt.figure()\n",
    "plt.plot(epochs, loss, 'bo', label='Training loss')\n",
    "plt.plot(epochs, val_loss, 'b', label='Validation loss')\n",
    "plt.title('Basic model loss')\n",
    "plt.legend()\n",
    "\n",
    "plt.show()"
   ]
  },
  {
   "cell_type": "markdown",
   "metadata": {},
   "source": [
    "## 1  GRU"
   ]
  },
  {
   "cell_type": "code",
   "execution_count": 16,
   "metadata": {
    "scrolled": true
   },
   "outputs": [
    {
     "name": "stdout",
     "output_type": "stream",
     "text": [
      "Epoch 1/20\n",
      "500/500 [==============================] - 164s 328ms/step - loss: 0.3020 - val_loss: 0.2684\n",
      "Epoch 2/20\n",
      "500/500 [==============================] - 175s 351ms/step - loss: 0.2862 - val_loss: 0.2672\n",
      "Epoch 3/20\n",
      "500/500 [==============================] - 166s 333ms/step - loss: 0.2812 - val_loss: 0.2653\n",
      "Epoch 4/20\n",
      "500/500 [==============================] - 165s 330ms/step - loss: 0.2752 - val_loss: 0.2643\n",
      "Epoch 5/20\n",
      "500/500 [==============================] - 161s 322ms/step - loss: 0.2706 - val_loss: 0.2700\n",
      "Epoch 6/20\n",
      "500/500 [==============================] - 174s 347ms/step - loss: 0.2661 - val_loss: 0.2693\n",
      "Epoch 7/20\n",
      "500/500 [==============================] - 167s 333ms/step - loss: 0.2619 - val_loss: 0.2708\n",
      "Epoch 8/20\n",
      "500/500 [==============================] - 160s 320ms/step - loss: 0.2556 - val_loss: 0.2732\n",
      "Epoch 9/20\n",
      "500/500 [==============================] - 162s 323ms/step - loss: 0.2503 - val_loss: 0.2745\n",
      "Epoch 10/20\n",
      "500/500 [==============================] - 159s 319ms/step - loss: 0.2461 - val_loss: 0.2780\n",
      "Epoch 11/20\n",
      "500/500 [==============================] - 163s 326ms/step - loss: 0.2404 - val_loss: 0.2809\n",
      "Epoch 12/20\n",
      "500/500 [==============================] - 164s 327ms/step - loss: 0.2369 - val_loss: 0.2866\n",
      "Epoch 13/20\n",
      "500/500 [==============================] - 158s 316ms/step - loss: 0.2321 - val_loss: 0.2862\n",
      "Epoch 14/20\n",
      "500/500 [==============================] - 1110s 2s/step - loss: 0.2285 - val_loss: 0.2871\n",
      "Epoch 15/20\n",
      "500/500 [==============================] - 133s 266ms/step - loss: 0.2257 - val_loss: 0.2889\n",
      "Epoch 16/20\n",
      "500/500 [==============================] - 131s 263ms/step - loss: 0.2206 - val_loss: 0.2908\n",
      "Epoch 17/20\n",
      "500/500 [==============================] - 133s 266ms/step - loss: 0.2181 - val_loss: 0.2965\n",
      "Epoch 18/20\n",
      "500/500 [==============================] - 150s 301ms/step - loss: 0.2147 - val_loss: 0.2958\n",
      "Epoch 19/20\n",
      "500/500 [==============================] - 153s 306ms/step - loss: 0.2110 - val_loss: 0.2995\n",
      "Epoch 20/20\n",
      "500/500 [==============================] - 137s 274ms/step - loss: 0.2082 - val_loss: 0.2995\n"
     ]
    }
   ],
   "source": [
    "model = Sequential()\n",
    "model.add(layers.GRU(32, input_shape = (None, float_data.shape[-1])))\n",
    "model.add(layers.Dense(1))\n",
    "\n",
    "model.compile(optimizer=RMSprop(), loss='mae')\n",
    "history = model.fit_generator(train_gen,\n",
    "                              steps_per_epoch=500,\n",
    "                              epochs=20,\n",
    "                              validation_data=val_gen,\n",
    "                              validation_steps=val_steps)"
   ]
  },
  {
   "cell_type": "code",
   "execution_count": 17,
   "metadata": {},
   "outputs": [
    {
     "data": {
      "image/png": "[encoded data removed]",
      "text/plain": [
       "<Figure size 432x288 with 1 Axes>"
      ]
     },
     "metadata": {},
     "output_type": "display_data"
    }
   ],
   "source": [
    "loss = history.history['loss']\n",
    "val_loss = history.history['val_loss']\n",
    "\n",
    "epochs = range(1, len(loss) + 1)\n",
    "\n",
    "plt.figure()\n",
    "plt.plot(epochs, loss, 'bo', label='Training loss')\n",
    "plt.plot(epochs, val_loss, 'b', label='Validation loss')\n",
    "plt.title('GRU model loss')\n",
    "plt.legend()\n",
    "\n",
    "plt.show()"
   ]
  },
  {
   "cell_type": "markdown",
   "metadata": {},
   "source": [
    "## Use Dropout"
   ]
  },
  {
   "cell_type": "code",
   "execution_count": 22,
   "metadata": {
    "scrolled": true
   },
   "outputs": [
    {
     "name": "stdout",
     "output_type": "stream",
     "text": [
      "Epoch 1/40\n",
      "500/500 [==============================] - 204s 408ms/step - loss: 0.3455 - val_loss: 0.2750\n",
      "Epoch 2/40\n",
      "500/500 [==============================] - 191s 383ms/step - loss: 0.3143 - val_loss: 0.2726\n",
      "Epoch 3/40\n",
      "500/500 [==============================] - 194s 388ms/step - loss: 0.3077 - val_loss: 0.2698\n",
      "Epoch 4/40\n",
      "500/500 [==============================] - 190s 380ms/step - loss: 0.3051 - val_loss: 0.2701\n",
      "Epoch 5/40\n",
      "500/500 [==============================] - 193s 385ms/step - loss: 0.3007 - val_loss: 0.2703\n",
      "Epoch 6/40\n",
      "500/500 [==============================] - 193s 386ms/step - loss: 0.2970 - val_loss: 0.2681\n",
      "Epoch 7/40\n",
      "500/500 [==============================] - 192s 384ms/step - loss: 0.2947 - val_loss: 0.2704\n",
      "Epoch 8/40\n",
      "500/500 [==============================] - 202s 404ms/step - loss: 0.2936 - val_loss: 0.2662\n",
      "Epoch 9/40\n",
      "500/500 [==============================] - 177s 354ms/step - loss: 0.2931 - val_loss: 0.2675\n",
      "Epoch 10/40\n",
      "500/500 [==============================] - 182s 364ms/step - loss: 0.2908 - val_loss: 0.2649\n",
      "Epoch 11/40\n",
      "500/500 [==============================] - 194s 387ms/step - loss: 0.2890 - val_loss: 0.2658\n",
      "Epoch 12/40\n",
      "500/500 [==============================] - 190s 379ms/step - loss: 0.2879 - val_loss: 0.2669\n",
      "Epoch 13/40\n",
      "500/500 [==============================] - 187s 373ms/step - loss: 0.2864 - val_loss: 0.2656\n",
      "Epoch 14/40\n",
      "500/500 [==============================] - 187s 374ms/step - loss: 0.2861 - val_loss: 0.2660\n",
      "Epoch 15/40\n",
      "500/500 [==============================] - 182s 364ms/step - loss: 0.2867 - val_loss: 0.2658\n",
      "Epoch 16/40\n",
      "500/500 [==============================] - 183s 366ms/step - loss: 0.2831 - val_loss: 0.2615\n",
      "Epoch 17/40\n",
      "500/500 [==============================] - 177s 355ms/step - loss: 0.2841 - val_loss: 0.2612\n",
      "Epoch 18/40\n",
      "500/500 [==============================] - 190s 380ms/step - loss: 0.2812 - val_loss: 0.2650\n",
      "Epoch 19/40\n",
      "500/500 [==============================] - 214s 429ms/step - loss: 0.2811 - val_loss: 0.2639\n",
      "Epoch 20/40\n",
      "500/500 [==============================] - 185s 370ms/step - loss: 0.2793 - val_loss: 0.2630\n",
      "Epoch 21/40\n",
      "500/500 [==============================] - 221s 443ms/step - loss: 0.2793 - val_loss: 0.2626\n",
      "Epoch 22/40\n",
      "500/500 [==============================] - 190s 380ms/step - loss: 0.2792 - val_loss: 0.2628\n",
      "Epoch 23/40\n",
      "500/500 [==============================] - 202s 404ms/step - loss: 0.2771 - val_loss: 0.2637\n",
      "Epoch 24/40\n",
      "500/500 [==============================] - 198s 395ms/step - loss: 0.2780 - val_loss: 0.2636\n",
      "Epoch 25/40\n",
      "500/500 [==============================] - 190s 380ms/step - loss: 0.2769 - val_loss: 0.2615\n",
      "Epoch 26/40\n",
      "500/500 [==============================] - 194s 389ms/step - loss: 0.2756 - val_loss: 0.2645\n",
      "Epoch 27/40\n",
      "500/500 [==============================] - 201s 402ms/step - loss: 0.2746 - val_loss: 0.2614\n",
      "Epoch 28/40\n",
      "500/500 [==============================] - 189s 378ms/step - loss: 0.2748 - val_loss: 0.2629\n",
      "Epoch 29/40\n",
      "500/500 [==============================] - 195s 389ms/step - loss: 0.2738 - val_loss: 0.2665\n",
      "Epoch 30/40\n",
      "500/500 [==============================] - 200s 400ms/step - loss: 0.2720 - val_loss: 0.2631\n",
      "Epoch 31/40\n",
      "500/500 [==============================] - 194s 389ms/step - loss: 0.2737 - val_loss: 0.2637\n",
      "Epoch 32/40\n",
      "500/500 [==============================] - 201s 402ms/step - loss: 0.2721 - val_loss: 0.2627\n",
      "Epoch 33/40\n",
      "500/500 [==============================] - 193s 386ms/step - loss: 0.2737 - val_loss: 0.2643\n",
      "Epoch 34/40\n",
      "500/500 [==============================] - 186s 372ms/step - loss: 0.2724 - val_loss: 0.2641\n",
      "Epoch 35/40\n",
      "500/500 [==============================] - 185s 369ms/step - loss: 0.2708 - val_loss: 0.2660\n",
      "Epoch 36/40\n",
      "500/500 [==============================] - 194s 388ms/step - loss: 0.2707 - val_loss: 0.2633\n",
      "Epoch 37/40\n",
      "500/500 [==============================] - 187s 375ms/step - loss: 0.2707 - val_loss: 0.2641\n",
      "Epoch 38/40\n",
      "500/500 [==============================] - 191s 382ms/step - loss: 0.2697 - val_loss: 0.2614\n",
      "Epoch 39/40\n",
      "500/500 [==============================] - 190s 380ms/step - loss: 0.2700 - val_loss: 0.2649\n",
      "Epoch 40/40\n",
      "500/500 [==============================] - 181s 361ms/step - loss: 0.2679 - val_loss: 0.2706\n"
     ]
    }
   ],
   "source": [
    "model = Sequential()\n",
    "model.add(layers.GRU(32, \n",
    "                     dropout=0.2,\n",
    "                     recurrent_dropout=0.2,\n",
    "                     input_shape=(None, float_data.shape[-1])))\n",
    "model.add(layers.Dense(1))\n",
    "\n",
    "model.compile(optimizer=RMSprop(), loss='mae')\n",
    "history = model.fit_generator(train_gen,\n",
    "                              steps_per_epoch=500,\n",
    "                              epochs=40,\n",
    "                              validation_data=val_gen,\n",
    "                              validation_steps=val_steps)"
   ]
  },
  {
   "cell_type": "code",
   "execution_count": 23,
   "metadata": {},
   "outputs": [
    {
     "data": {
      "image/png": "[encoded data removed]",
      "text/plain": [
       "<Figure size 432x288 with 1 Axes>"
      ]
     },
     "metadata": {},
     "output_type": "display_data"
    }
   ],
   "source": [
    "loss = history.history['loss']\n",
    "val_loss = history.history['val_loss']\n",
    "\n",
    "epochs = range(1, len(loss) + 1)\n",
    "\n",
    "plt.figure()\n",
    "plt.plot(epochs, loss, 'bo', label='Training loss')\n",
    "plt.plot(epochs, val_loss, 'b', label='Validation loss')\n",
    "plt.title('GRU + Dropout model loss')\n",
    "plt.legend()\n",
    "\n",
    "plt.show()"
   ]
  },
  {
   "cell_type": "markdown",
   "metadata": {},
   "source": [
    "## GRU + Dropout + Add layer model"
   ]
  },
  {
   "cell_type": "code",
   "execution_count": 28,
   "metadata": {
    "scrolled": true
   },
   "outputs": [
    {
     "name": "stdout",
     "output_type": "stream",
     "text": [
      "Epoch 1/40\n",
      "500/500 [==============================] - 432s 864ms/step - loss: 0.3369 - val_loss: 0.2785\n",
      "Epoch 2/40\n",
      "500/500 [==============================] - 393s 785ms/step - loss: 0.3135 - val_loss: 0.2749\n",
      "Epoch 3/40\n",
      "500/500 [==============================] - 396s 792ms/step - loss: 0.3059 - val_loss: 0.2710\n",
      "Epoch 4/40\n",
      "500/500 [==============================] - 397s 795ms/step - loss: 0.3023 - val_loss: 0.2712\n",
      "Epoch 5/40\n",
      "500/500 [==============================] - 397s 793ms/step - loss: 0.2984 - val_loss: 0.2667\n",
      "Epoch 6/40\n",
      "500/500 [==============================] - 399s 797ms/step - loss: 0.2960 - val_loss: 0.2698\n",
      "Epoch 7/40\n",
      "500/500 [==============================] - 1059s 2s/step - loss: 0.2913 - val_loss: 0.2663\n",
      "Epoch 8/40\n",
      "500/500 [==============================] - 315s 630ms/step - loss: 0.2891 - val_loss: 0.2653\n",
      "Epoch 9/40\n",
      "500/500 [==============================] - 310s 620ms/step - loss: 0.2898 - val_loss: 0.2666\n",
      "Epoch 10/40\n",
      "500/500 [==============================] - 308s 616ms/step - loss: 0.2861 - val_loss: 0.2655\n",
      "Epoch 11/40\n",
      "500/500 [==============================] - 313s 626ms/step - loss: 0.2862 - val_loss: 0.2668\n",
      "Epoch 12/40\n",
      "500/500 [==============================] - 676s 1s/step - loss: 0.2844 - val_loss: 0.2666\n",
      "Epoch 13/40\n",
      "500/500 [==============================] - 313s 625ms/step - loss: 0.2817 - val_loss: 0.2650\n",
      "Epoch 14/40\n",
      "500/500 [==============================] - 313s 626ms/step - loss: 0.2824 - val_loss: 0.2688\n",
      "Epoch 15/40\n",
      "500/500 [==============================] - 313s 625ms/step - loss: 0.2808 - val_loss: 0.2664\n",
      "Epoch 16/40\n",
      "500/500 [==============================] - 314s 627ms/step - loss: 0.2765 - val_loss: 0.2707\n",
      "Epoch 17/40\n",
      "500/500 [==============================] - 315s 630ms/step - loss: 0.2761 - val_loss: 0.2674\n",
      "Epoch 18/40\n",
      "500/500 [==============================] - 316s 631ms/step - loss: 0.2752 - val_loss: 0.2695\n",
      "Epoch 19/40\n",
      "500/500 [==============================] - 316s 633ms/step - loss: 0.2714 - val_loss: 0.2705\n",
      "Epoch 20/40\n",
      "500/500 [==============================] - 316s 632ms/step - loss: 0.2712 - val_loss: 0.2652\n",
      "Epoch 21/40\n",
      "500/500 [==============================] - 311s 623ms/step - loss: 0.2711 - val_loss: 0.2664\n",
      "Epoch 22/40\n",
      "500/500 [==============================] - 308s 617ms/step - loss: 0.2676 - val_loss: 0.2753\n",
      "Epoch 23/40\n",
      "500/500 [==============================] - 309s 618ms/step - loss: 0.2676 - val_loss: 0.2737\n",
      "Epoch 24/40\n",
      "500/500 [==============================] - 308s 616ms/step - loss: 0.2658 - val_loss: 0.2658\n",
      "Epoch 25/40\n",
      "500/500 [==============================] - 307s 615ms/step - loss: 0.2639 - val_loss: 0.2660\n",
      "Epoch 26/40\n",
      "500/500 [==============================] - 308s 616ms/step - loss: 0.2635 - val_loss: 0.2677\n",
      "Epoch 27/40\n",
      "500/500 [==============================] - 310s 620ms/step - loss: 0.2627 - val_loss: 0.2709\n",
      "Epoch 28/40\n",
      "500/500 [==============================] - 308s 616ms/step - loss: 0.2610 - val_loss: 0.2649\n",
      "Epoch 29/40\n",
      "500/500 [==============================] - 308s 616ms/step - loss: 0.2611 - val_loss: 0.2663\n",
      "Epoch 30/40\n",
      "500/500 [==============================] - 309s 617ms/step - loss: 0.2586 - val_loss: 0.2795\n",
      "Epoch 31/40\n",
      "500/500 [==============================] - 309s 618ms/step - loss: 0.2593 - val_loss: 0.2755\n",
      "Epoch 32/40\n",
      "500/500 [==============================] - 308s 617ms/step - loss: 0.2591 - val_loss: 0.2690\n",
      "Epoch 33/40\n",
      "500/500 [==============================] - 309s 617ms/step - loss: 0.2568 - val_loss: 0.2708\n",
      "Epoch 34/40\n",
      "500/500 [==============================] - 310s 619ms/step - loss: 0.2574 - val_loss: 0.2711\n",
      "Epoch 35/40\n",
      "500/500 [==============================] - 314s 628ms/step - loss: 0.2560 - val_loss: 0.2775\n",
      "Epoch 36/40\n",
      "500/500 [==============================] - 313s 627ms/step - loss: 0.2567 - val_loss: 0.2743\n",
      "Epoch 37/40\n",
      "500/500 [==============================] - 313s 626ms/step - loss: 0.2551 - val_loss: 0.2760\n",
      "Epoch 38/40\n",
      "500/500 [==============================] - 314s 628ms/step - loss: 0.2555 - val_loss: 0.2781\n",
      "Epoch 39/40\n",
      "500/500 [==============================] - 323s 646ms/step - loss: 0.2556 - val_loss: 0.2790\n",
      "Epoch 40/40\n",
      "500/500 [==============================] - 315s 630ms/step - loss: 0.2534 - val_loss: 0.2717\n"
     ]
    }
   ],
   "source": [
    "model = Sequential()\n",
    "model.add(layers.GRU(32, \n",
    "                     dropout=0.1,\n",
    "                     recurrent_dropout=0.5,\n",
    "                     return_sequences=True,\n",
    "                     input_shape=(None, float_data.shape[-1])))\n",
    "model.add(layers.GRU(64, activation='relu',\n",
    "                     dropout=0.1,\n",
    "                     recurrent_dropout=0.5))\n",
    "model.add(layers.Dense(1))\n",
    "\n",
    "model.compile(optimizer=RMSprop(), loss='mae')\n",
    "history = model.fit_generator(train_gen,\n",
    "                              steps_per_epoch=500,\n",
    "                              epochs=40,\n",
    "                              validation_data=val_gen,\n",
    "                              validation_steps=val_steps)"
   ]
  },
  {
   "cell_type": "code",
   "execution_count": 29,
   "metadata": {},
   "outputs": [
    {
     "data": {
      "image/png": "[encoded data removed]",
      "text/plain": [
       "<Figure size 432x288 with 1 Axes>"
      ]
     },
     "metadata": {},
     "output_type": "display_data"
    }
   ],
   "source": [
    "loss = history.history['loss']\n",
    "val_loss = history.history['val_loss']\n",
    "\n",
    "epochs = range(1, len(loss) + 1)\n",
    "\n",
    "plt.figure()\n",
    "plt.plot(epochs, loss, 'bo', label='Training loss')\n",
    "plt.plot(epochs, val_loss, 'b', label='Validation loss')\n",
    "plt.title('GRU + Dropout + Add layer model loss')\n",
    "plt.legend()\n",
    "\n",
    "plt.show()"
   ]
  },
  {
   "cell_type": "markdown",
   "metadata": {},
   "source": [
    "## bidirectional GRU"
   ]
  },
  {
   "cell_type": "code",
   "execution_count": 30,
   "metadata": {
    "scrolled": true
   },
   "outputs": [
    {
     "name": "stdout",
     "output_type": "stream",
     "text": [
      "Epoch 1/40\n",
      "500/500 [==============================] - 268s 536ms/step - loss: 0.2962 - val_loss: 0.2985\n",
      "Epoch 2/40\n",
      "500/500 [==============================] - 267s 534ms/step - loss: 0.2747 - val_loss: 0.2701\n",
      "Epoch 3/40\n",
      "500/500 [==============================] - 267s 534ms/step - loss: 0.2661 - val_loss: 0.2661\n",
      "Epoch 4/40\n",
      "500/500 [==============================] - 266s 531ms/step - loss: 0.2603 - val_loss: 0.2688\n",
      "Epoch 5/40\n",
      "500/500 [==============================] - 265s 531ms/step - loss: 0.2551 - val_loss: 0.2726\n",
      "Epoch 6/40\n",
      "500/500 [==============================] - 266s 531ms/step - loss: 0.2507 - val_loss: 0.2686\n",
      "Epoch 7/40\n",
      "500/500 [==============================] - 262s 524ms/step - loss: 0.2456 - val_loss: 0.2721\n",
      "Epoch 8/40\n",
      "500/500 [==============================] - 261s 521ms/step - loss: 0.2393 - val_loss: 0.2747\n",
      "Epoch 9/40\n",
      "500/500 [==============================] - 260s 521ms/step - loss: 0.2337 - val_loss: 0.2802\n",
      "Epoch 10/40\n",
      "500/500 [==============================] - 261s 521ms/step - loss: 0.2277 - val_loss: 0.2860\n",
      "Epoch 11/40\n",
      "500/500 [==============================] - 260s 521ms/step - loss: 0.2227 - val_loss: 0.2884\n",
      "Epoch 12/40\n",
      "500/500 [==============================] - 260s 520ms/step - loss: 0.2158 - val_loss: 0.2936\n",
      "Epoch 13/40\n",
      "500/500 [==============================] - 260s 521ms/step - loss: 0.2102 - val_loss: 0.3008\n",
      "Epoch 14/40\n",
      "500/500 [==============================] - 261s 521ms/step - loss: 0.2041 - val_loss: 0.3037\n",
      "Epoch 15/40\n",
      "500/500 [==============================] - 261s 522ms/step - loss: 0.1996 - val_loss: 0.3036\n",
      "Epoch 16/40\n",
      "500/500 [==============================] - 260s 520ms/step - loss: 0.1948 - val_loss: 0.3069\n",
      "Epoch 17/40\n",
      "500/500 [==============================] - 260s 520ms/step - loss: 0.1887 - val_loss: 0.3103\n",
      "Epoch 18/40\n",
      "500/500 [==============================] - 260s 519ms/step - loss: 0.1865 - val_loss: 0.3059\n",
      "Epoch 19/40\n",
      "500/500 [==============================] - 260s 521ms/step - loss: 0.1812 - val_loss: 0.3116\n",
      "Epoch 20/40\n",
      "500/500 [==============================] - 260s 521ms/step - loss: 0.1799 - val_loss: 0.3191\n",
      "Epoch 21/40\n",
      "500/500 [==============================] - 261s 522ms/step - loss: 0.1750 - val_loss: 0.3224\n",
      "Epoch 22/40\n",
      "500/500 [==============================] - 265s 530ms/step - loss: 0.1716 - val_loss: 0.3194\n",
      "Epoch 23/40\n",
      "500/500 [==============================] - 264s 529ms/step - loss: 0.1681 - val_loss: 0.3190\n",
      "Epoch 24/40\n",
      "500/500 [==============================] - 263s 527ms/step - loss: 0.1662 - val_loss: 0.3260\n",
      "Epoch 25/40\n",
      "500/500 [==============================] - 264s 528ms/step - loss: 0.1636 - val_loss: 0.3309\n",
      "Epoch 26/40\n",
      "500/500 [==============================] - 266s 531ms/step - loss: 0.1598 - val_loss: 0.3310\n",
      "Epoch 27/40\n",
      "500/500 [==============================] - 268s 536ms/step - loss: 0.1586 - val_loss: 0.3237\n",
      "Epoch 28/40\n",
      "500/500 [==============================] - 267s 534ms/step - loss: 0.1559 - val_loss: 0.3258\n",
      "Epoch 29/40\n",
      "500/500 [==============================] - 267s 534ms/step - loss: 0.1537 - val_loss: 0.3290\n",
      "Epoch 30/40\n",
      "500/500 [==============================] - 266s 532ms/step - loss: 0.1519 - val_loss: 0.3326\n",
      "Epoch 31/40\n",
      "500/500 [==============================] - 265s 530ms/step - loss: 0.1501 - val_loss: 0.3322\n",
      "Epoch 32/40\n",
      "500/500 [==============================] - 265s 530ms/step - loss: 0.1479 - val_loss: 0.3293\n",
      "Epoch 33/40\n",
      "500/500 [==============================] - 266s 532ms/step - loss: 0.1461 - val_loss: 0.3340\n",
      "Epoch 34/40\n",
      "500/500 [==============================] - 266s 533ms/step - loss: 0.1448 - val_loss: 0.3344\n",
      "Epoch 35/40\n",
      "500/500 [==============================] - 264s 529ms/step - loss: 0.1434 - val_loss: 0.3302\n",
      "Epoch 36/40\n",
      "500/500 [==============================] - 261s 522ms/step - loss: 0.1419 - val_loss: 0.3329\n",
      "Epoch 37/40\n",
      "500/500 [==============================] - 260s 520ms/step - loss: 0.1411 - val_loss: 0.3384\n",
      "Epoch 38/40\n",
      "500/500 [==============================] - 260s 519ms/step - loss: 0.1391 - val_loss: 0.3336\n",
      "Epoch 39/40\n",
      "500/500 [==============================] - 261s 521ms/step - loss: 0.1373 - val_loss: 0.3390\n",
      "Epoch 40/40\n",
      "500/500 [==============================] - 260s 521ms/step - loss: 0.1362 - val_loss: 0.3335\n"
     ]
    }
   ],
   "source": [
    "model = Sequential()\n",
    "model.add(layers.Bidirectional(\n",
    "    layers.GRU(32), input_shape=(None, float_data.shape[-1])))\n",
    "model.add(layers.Dense(1))\n",
    "\n",
    "model.compile(optimizer='RMSprop', loss='mae')\n",
    "history = model.fit_generator(train_gen,\n",
    "                              steps_per_epoch=500,\n",
    "                              epochs=40,\n",
    "                              validation_data=val_gen,\n",
    "                              validation_steps=val_steps)"
   ]
  },
  {
   "cell_type": "code",
   "execution_count": 31,
   "metadata": {},
   "outputs": [
    {
     "data": {
      "image/png": "[encoded data removed]",
      "text/plain": [
       "<Figure size 432x288 with 1 Axes>"
      ]
     },
     "metadata": {},
     "output_type": "display_data"
    }
   ],
   "source": [
    "loss = history.history['loss']\n",
    "val_loss = history.history['val_loss']\n",
    "\n",
    "epochs = range(1, len(loss) + 1)\n",
    "\n",
    "plt.figure()\n",
    "plt.plot(epochs, loss, 'bo', label='Training loss')\n",
    "plt.plot(epochs, val_loss, 'b', label='Validation loss')\n",
    "plt.title('bidirectional GRU model loss')\n",
    "plt.legend()\n",
    "\n",
    "plt.show()"
   ]
  }
 ],
 "metadata": {
  "kernelspec": {
   "display_name": "tensorflowGPU",
   "language": "python",
   "name": "tensorflow"
  },
  "language_info": {
   "codemirror_mode": {
    "name": "ipython",
    "version": 3
   },
   "file_extension": ".py",
   "mimetype": "text/x-python",
   "name": "python",
   "nbconvert_exporter": "python",
   "pygments_lexer": "ipython3",
   "version": "3.5.5"
  }
 },
 "nbformat": 4,
 "nbformat_minor": 2
}
